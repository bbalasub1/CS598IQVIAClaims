{
  "nbformat": 4,
  "nbformat_minor": 0,
  "metadata": {
    "accelerator": "GPU",
    "colab": {
      "name": "Copy of cost_prediction.ipynb",
      "provenance": [],
      "collapsed_sections": [
        "9X87pA2We0fb",
        "lrqr7SvhlMMw",
        "Pz72uokf-LVQ"
      ],
      "toc_visible": true,
      "machine_shape": "hm",
      "include_colab_link": true
    },
    "kernelspec": {
      "display_name": "Python 3",
      "name": "python3"
    },
    "language_info": {
      "name": "python"
    }
  },
  "cells": [
    {
      "cell_type": "markdown",
      "metadata": {
        "id": "view-in-github",
        "colab_type": "text"
      },
      "source": [
        "<a href=\"https://colab.research.google.com/github/bbalasub1/CS598IQVIAClaims/blob/main/src/cost_prediction.ipynb\" target=\"_parent\"><img src=\"https://colab.research.google.com/assets/colab-badge.svg\" alt=\"Open In Colab\"/></a>"
      ]
    },
    {
      "cell_type": "markdown",
      "metadata": {
        "id": "Q_jej5JXayNs"
      },
      "source": [
        "# **CS598 Deep Learning for Healthcare**"
      ]
    },
    {
      "cell_type": "markdown",
      "metadata": {
        "id": "vP7Q5_3OctOD"
      },
      "source": [
        "## **1. Setup**"
      ]
    },
    {
      "cell_type": "markdown",
      "metadata": {
        "id": "dV62d0RgcLoQ"
      },
      "source": [
        "### 1.1 Change the google colab settings\n",
        "We can use a GPU on the google colab by setting below.  \n",
        "**Edit -> Notebook setting -> Hardware accelerator -> GPU**"
      ]
    },
    {
      "cell_type": "markdown",
      "metadata": {
        "id": "MEKo8TAeb9TB"
      },
      "source": [
        "### 1.2 Check if the GPU is available in the Colab environment"
      ]
    },
    {
      "cell_type": "code",
      "metadata": {
        "colab": {
          "base_uri": "https://localhost:8080/"
        },
        "id": "-uhApS8Qa2yl",
        "outputId": "1ac81f07-0439-412e-e58d-5f870340f40f"
      },
      "source": [
        "# The code in this cell is inspired by https://mccormickml.com/2019/07/22/BERT-fine-tuning/\n",
        "import tensorflow as tf\n",
        "\n",
        "# Get the GPU device name\n",
        "device_name = tf.test.gpu_device_name()\n",
        "print('Device name: {}'.format(device_name))"
      ],
      "execution_count": 2,
      "outputs": [
        {
          "output_type": "stream",
          "text": [
            "Device name: /device:GPU:0\n"
          ],
          "name": "stdout"
        }
      ]
    },
    {
      "cell_type": "markdown",
      "metadata": {
        "id": "UKcEgpY6ckkX"
      },
      "source": [
        "### 1.3 GPU setting for PyTourch"
      ]
    },
    {
      "cell_type": "code",
      "metadata": {
        "colab": {
          "base_uri": "https://localhost:8080/"
        },
        "id": "9aCKdPN0bkYo",
        "outputId": "b6bee047-be5b-4fff-b67f-eb5938cf46ad"
      },
      "source": [
        "# The code in this cell is inspired by https://mccormickml.com/2019/07/22/BERT-fine-tuning/\n",
        "import torch\n",
        "\n",
        "# Tell PyTorch to use the GPU\n",
        "device = torch.device(\"cuda\")\n",
        "print('GPU:', torch.cuda.get_device_name(0))"
      ],
      "execution_count": 3,
      "outputs": [
        {
          "output_type": "stream",
          "text": [
            "GPU: Tesla T4\n"
          ],
          "name": "stdout"
        }
      ]
    },
    {
      "cell_type": "markdown",
      "metadata": {
        "id": "CSDxTfE8dKyo"
      },
      "source": [
        "### 1.4 import necessary packages and setup RNG\n"
      ]
    },
    {
      "cell_type": "code",
      "metadata": {
        "id": "LN3iA6mgbyNA"
      },
      "source": [
        "import os\n",
        "import pickle\n",
        "import random\n",
        "import numpy as np\n",
        "import torch\n",
        "import torch.nn as nn\n",
        "import torch.nn.functional as F\n",
        "import pandas as pd\n",
        "\n",
        "# set seed\n",
        "seed = 100\n",
        "\n",
        "def set_seed(seed):\n",
        "    torch.backends.cudnn.deterministic = True\n",
        "    torch.backends.cudnn.benchmark = False\n",
        "    torch.manual_seed(seed)\n",
        "    torch.cuda.manual_seed_all(seed)\n",
        "    np.random.seed(seed)\n",
        "    random.seed(seed)\n",
        "\n",
        "set_seed(seed)"
      ],
      "execution_count": 4,
      "outputs": []
    },
    {
      "cell_type": "markdown",
      "metadata": {
        "id": "0QktahRUdTgj"
      },
      "source": [
        "## **2. Dataset pre-process and embedding**"
      ]
    },
    {
      "cell_type": "markdown",
      "metadata": {
        "id": "9X87pA2We0fb"
      },
      "source": [
        "### 2.1 Load the IQVIA data from google drive"
      ]
    },
    {
      "cell_type": "code",
      "metadata": {
        "id": "szqDmVIIhBA9",
        "colab": {
          "base_uri": "https://localhost:8080/"
        },
        "outputId": "b4ac1800-9608-40b0-c2a5-124a41440c64"
      },
      "source": [
        "from google.colab import drive\n",
        "drive.mount('/content/drive')"
      ],
      "execution_count": 5,
      "outputs": [
        {
          "output_type": "stream",
          "text": [
            "Mounted at /content/drive\n"
          ],
          "name": "stdout"
        }
      ]
    },
    {
      "cell_type": "markdown",
      "metadata": {
        "id": "qjt8F4t4kjS5"
      },
      "source": [
        "[Note]\n",
        "Need to upload the iqvia data to your google drive"
      ]
    },
    {
      "cell_type": "code",
      "metadata": {
        "id": "aNjGFsD2dPjH"
      },
      "source": [
        "DATA_DIR = '/content/drive/MyDrive/iqvia_data/'"
      ],
      "execution_count": 6,
      "outputs": []
    },
    {
      "cell_type": "code",
      "metadata": {
        "id": "EGqP7CZjfFko"
      },
      "source": [
        "import pandas as pd\n",
        "ENROLL_FILE = DATA_DIR + 'enroll_synth.dat'\n",
        "CLAIMS_2019 = DATA_DIR + 'claims_2019.dat'\n",
        "CLAIMS_2018 = DATA_DIR + 'claims_2018.dat'\n",
        "CLAIMS_2017 = DATA_DIR + 'claims_2017.dat'\n",
        "CLAIMS_2016 = DATA_DIR + 'claims_2016.dat'\n",
        "CLAIMS_2015 = DATA_DIR + 'claims_2015.dat'\n",
        "\n",
        "df_enroll = pd.read_csv(ENROLL_FILE, sep='|', low_memory=False)\n",
        "\n",
        "df_claims2019 = pd.read_csv(CLAIMS_2019, sep='|', low_memory=False)\n",
        "df_claims2018 = pd.read_csv(CLAIMS_2018, sep='|', low_memory=False)\n",
        "df_claims2017 = pd.read_csv(CLAIMS_2017, sep='|', low_memory=False)\n",
        "df_claims2016 = pd.read_csv(CLAIMS_2016, sep='|', low_memory=False)\n",
        "df_claims2015 = pd.read_csv(CLAIMS_2015, sep='|', low_memory=False)\n",
        "\n",
        "## Add year and create a single dataset for claims\n",
        "df_claims2015[\"year\"] = 2015\n",
        "df_claims2016[\"year\"] = 2016\n",
        "df_claims2017[\"year\"] = 2017\n",
        "df_claims2018[\"year\"] = 2018\n",
        "df_claims2019[\"year\"] = 2019\n",
        "\n",
        "list_of_claims = [df_claims2015, df_claims2016, df_claims2017, df_claims2018, df_claims2019]\n",
        "df_claims = pd.concat(list_of_claims)"
      ],
      "execution_count": null,
      "outputs": []
    },
    {
      "cell_type": "code",
      "metadata": {
        "id": "NlzdYrkHncNq",
        "colab": {
          "base_uri": "https://localhost:8080/",
          "height": 391
        },
        "outputId": "5ab77819-a8ce-4d7a-e5f2-83d05056593c"
      },
      "source": [
        "# enroll data\n",
        "print(\"Shape of Claims{}\".format(df_enroll.shape))\n",
        "df_enroll.sample(n=5, random_state=0)"
      ],
      "execution_count": null,
      "outputs": [
        {
          "output_type": "stream",
          "text": [
            "Shape of Claims(30000, 17)\n"
          ],
          "name": "stdout"
        },
        {
          "output_type": "execute_result",
          "data": {
            "text/html": [
              "<div>\n",
              "<style scoped>\n",
              "    .dataframe tbody tr th:only-of-type {\n",
              "        vertical-align: middle;\n",
              "    }\n",
              "\n",
              "    .dataframe tbody tr th {\n",
              "        vertical-align: top;\n",
              "    }\n",
              "\n",
              "    .dataframe thead th {\n",
              "        text-align: right;\n",
              "    }\n",
              "</style>\n",
              "<table border=\"1\" class=\"dataframe\">\n",
              "  <thead>\n",
              "    <tr style=\"text-align: right;\">\n",
              "      <th></th>\n",
              "      <th>estring</th>\n",
              "      <th>clm_frst</th>\n",
              "      <th>clm_last</th>\n",
              "      <th>nbr_clm_lines</th>\n",
              "      <th>enr_frst</th>\n",
              "      <th>enr_last</th>\n",
              "      <th>mon_totl</th>\n",
              "      <th>mxce_fst</th>\n",
              "      <th>mxce_lst</th>\n",
              "      <th>der_sex</th>\n",
              "      <th>der_yob</th>\n",
              "      <th>pat_id</th>\n",
              "      <th>pat_region</th>\n",
              "      <th>pat_state</th>\n",
              "      <th>grp_indv_cd</th>\n",
              "      <th>mh_cd</th>\n",
              "      <th>enr_rel</th>\n",
              "    </tr>\n",
              "  </thead>\n",
              "  <tbody>\n",
              "    <tr>\n",
              "      <th>8225</th>\n",
              "      <td>----------------------------------------------...</td>\n",
              "      <td>2006-01-10</td>\n",
              "      <td>2017-12-27</td>\n",
              "      <td>417</td>\n",
              "      <td>2006-01-01</td>\n",
              "      <td>2018-03-31</td>\n",
              "      <td>147</td>\n",
              "      <td>2006-01-01</td>\n",
              "      <td>2018-03-31</td>\n",
              "      <td>F</td>\n",
              "      <td>1943.0</td>\n",
              "      <td>f433AAAAAAAGVWTS</td>\n",
              "      <td>E</td>\n",
              "      <td>NY</td>\n",
              "      <td>U</td>\n",
              "      <td>Y</td>\n",
              "      <td>21</td>\n",
              "    </tr>\n",
              "    <tr>\n",
              "      <th>10794</th>\n",
              "      <td>----------------------------------------------...</td>\n",
              "      <td>2006-06-07</td>\n",
              "      <td>2018-03-05</td>\n",
              "      <td>140</td>\n",
              "      <td>2006-01-01</td>\n",
              "      <td>2018-03-31</td>\n",
              "      <td>147</td>\n",
              "      <td>2006-01-01</td>\n",
              "      <td>2018-03-31</td>\n",
              "      <td>M</td>\n",
              "      <td>1964.0</td>\n",
              "      <td>f433AAAAAAAHRYHG</td>\n",
              "      <td>E</td>\n",
              "      <td>NY</td>\n",
              "      <td>U</td>\n",
              "      <td>Y</td>\n",
              "      <td>21</td>\n",
              "    </tr>\n",
              "    <tr>\n",
              "      <th>9163</th>\n",
              "      <td>----------------------------------------------...</td>\n",
              "      <td>2007-07-23</td>\n",
              "      <td>2017-03-14</td>\n",
              "      <td>345</td>\n",
              "      <td>2006-01-01</td>\n",
              "      <td>2017-03-31</td>\n",
              "      <td>135</td>\n",
              "      <td>2006-01-01</td>\n",
              "      <td>2017-03-31</td>\n",
              "      <td>F</td>\n",
              "      <td>1960.0</td>\n",
              "      <td>k306AAAAAABKDKXE</td>\n",
              "      <td>NaN</td>\n",
              "      <td>NaN</td>\n",
              "      <td>U</td>\n",
              "      <td>Y</td>\n",
              "      <td>21</td>\n",
              "    </tr>\n",
              "    <tr>\n",
              "      <th>26591</th>\n",
              "      <td>----------------------------------------------...</td>\n",
              "      <td>2016-01-01</td>\n",
              "      <td>2016-03-11</td>\n",
              "      <td>28</td>\n",
              "      <td>2016-01-01</td>\n",
              "      <td>2016-12-31</td>\n",
              "      <td>12</td>\n",
              "      <td>2016-01-01</td>\n",
              "      <td>2016-12-31</td>\n",
              "      <td>M</td>\n",
              "      <td>2015.0</td>\n",
              "      <td>a7e3AAAAAAPPAPTW</td>\n",
              "      <td>W</td>\n",
              "      <td>CA</td>\n",
              "      <td>U</td>\n",
              "      <td>N</td>\n",
              "      <td>21</td>\n",
              "    </tr>\n",
              "    <tr>\n",
              "      <th>6631</th>\n",
              "      <td>----------------------------------------------...</td>\n",
              "      <td>2017-04-28</td>\n",
              "      <td>2017-05-26</td>\n",
              "      <td>22</td>\n",
              "      <td>2016-03-01</td>\n",
              "      <td>2017-05-31</td>\n",
              "      <td>15</td>\n",
              "      <td>2016-03-01</td>\n",
              "      <td>2017-05-31</td>\n",
              "      <td>F</td>\n",
              "      <td>1995.0</td>\n",
              "      <td>pg20AAAAADXVWYQN</td>\n",
              "      <td>MW</td>\n",
              "      <td>IL</td>\n",
              "      <td>U</td>\n",
              "      <td>N</td>\n",
              "      <td>21</td>\n",
              "    </tr>\n",
              "  </tbody>\n",
              "</table>\n",
              "</div>"
            ],
            "text/plain": [
              "                                                 estring  ... enr_rel\n",
              "8225   ----------------------------------------------...  ...      21\n",
              "10794  ----------------------------------------------...  ...      21\n",
              "9163   ----------------------------------------------...  ...      21\n",
              "26591  ----------------------------------------------...  ...      21\n",
              "6631   ----------------------------------------------...  ...      21\n",
              "\n",
              "[5 rows x 17 columns]"
            ]
          },
          "metadata": {
            "tags": []
          },
          "execution_count": 8
        }
      ]
    },
    {
      "cell_type": "code",
      "metadata": {
        "id": "qgR9yr9anOQd",
        "colab": {
          "base_uri": "https://localhost:8080/",
          "height": 326
        },
        "outputId": "c7eec967-ca85-4e60-d96a-89b0f8df3989"
      },
      "source": [
        "# claim data\n",
        "print(\"Shape of Claims{}\".format(df_claims.shape))\n",
        "df_claims.sample(n=5, random_state=0)"
      ],
      "execution_count": null,
      "outputs": [
        {
          "output_type": "stream",
          "text": [
            "Shape of Claims(2438054, 65)\n"
          ],
          "name": "stdout"
        },
        {
          "output_type": "execute_result",
          "data": {
            "text/html": [
              "<div>\n",
              "<style scoped>\n",
              "    .dataframe tbody tr th:only-of-type {\n",
              "        vertical-align: middle;\n",
              "    }\n",
              "\n",
              "    .dataframe tbody tr th {\n",
              "        vertical-align: top;\n",
              "    }\n",
              "\n",
              "    .dataframe thead th {\n",
              "        text-align: right;\n",
              "    }\n",
              "</style>\n",
              "<table border=\"1\" class=\"dataframe\">\n",
              "  <thead>\n",
              "    <tr style=\"text-align: right;\">\n",
              "      <th></th>\n",
              "      <th>pat_id</th>\n",
              "      <th>claimno</th>\n",
              "      <th>linenum</th>\n",
              "      <th>rectype</th>\n",
              "      <th>tos_flag</th>\n",
              "      <th>pos</th>\n",
              "      <th>conf_num</th>\n",
              "      <th>patstat</th>\n",
              "      <th>billtype</th>\n",
              "      <th>ndc</th>\n",
              "      <th>daw</th>\n",
              "      <th>formulary</th>\n",
              "      <th>dayssup</th>\n",
              "      <th>quan</th>\n",
              "      <th>proc_cde</th>\n",
              "      <th>cpt_mod</th>\n",
              "      <th>rev_code</th>\n",
              "      <th>srv_unit</th>\n",
              "      <th>from_dt</th>\n",
              "      <th>to_dt</th>\n",
              "      <th>diagprc_ind</th>\n",
              "      <th>diag_admit</th>\n",
              "      <th>diag1</th>\n",
              "      <th>diag2</th>\n",
              "      <th>diag3</th>\n",
              "      <th>diag4</th>\n",
              "      <th>diag5</th>\n",
              "      <th>diag6</th>\n",
              "      <th>diag7</th>\n",
              "      <th>diag8</th>\n",
              "      <th>diag9</th>\n",
              "      <th>diag10</th>\n",
              "      <th>diag11</th>\n",
              "      <th>diag12</th>\n",
              "      <th>icdprc1</th>\n",
              "      <th>icdprc2</th>\n",
              "      <th>icdprc3</th>\n",
              "      <th>icdprc4</th>\n",
              "      <th>icdprc5</th>\n",
              "      <th>icdprc6</th>\n",
              "      <th>icdprc7</th>\n",
              "      <th>icdprc8</th>\n",
              "      <th>icdprc9</th>\n",
              "      <th>icdprc10</th>\n",
              "      <th>icdprc11</th>\n",
              "      <th>icdprc12</th>\n",
              "      <th>charge</th>\n",
              "      <th>allowed</th>\n",
              "      <th>paid</th>\n",
              "      <th>deductible</th>\n",
              "      <th>copay</th>\n",
              "      <th>coinsamt</th>\n",
              "      <th>cobamt</th>\n",
              "      <th>dispense_fee</th>\n",
              "      <th>bill_spec</th>\n",
              "      <th>rend_spec</th>\n",
              "      <th>prscbr_spec</th>\n",
              "      <th>att_spec</th>\n",
              "      <th>pcp_spec</th>\n",
              "      <th>ref_spec</th>\n",
              "      <th>ptypeflg</th>\n",
              "      <th>sub_tp_cd</th>\n",
              "      <th>pmt_st_cd</th>\n",
              "      <th>paid_dt</th>\n",
              "      <th>year</th>\n",
              "    </tr>\n",
              "  </thead>\n",
              "  <tbody>\n",
              "    <tr>\n",
              "      <th>436407</th>\n",
              "      <td>pf06AAAAAAANBFBA</td>\n",
              "      <td>NaN</td>\n",
              "      <td>1.0</td>\n",
              "      <td>P</td>\n",
              "      <td>0</td>\n",
              "      <td>01</td>\n",
              "      <td>NaN</td>\n",
              "      <td>NaN</td>\n",
              "      <td>NaN</td>\n",
              "      <td>3.78181e+08</td>\n",
              "      <td>NaN</td>\n",
              "      <td>NaN</td>\n",
              "      <td>30.0</td>\n",
              "      <td>15.0</td>\n",
              "      <td>NaN</td>\n",
              "      <td>NaN</td>\n",
              "      <td>NaN</td>\n",
              "      <td>NaN</td>\n",
              "      <td>2015-07-17</td>\n",
              "      <td>2015-07-17</td>\n",
              "      <td>-1</td>\n",
              "      <td>NaN</td>\n",
              "      <td>NaN</td>\n",
              "      <td>NaN</td>\n",
              "      <td>NaN</td>\n",
              "      <td>NaN</td>\n",
              "      <td>NaN</td>\n",
              "      <td>NaN</td>\n",
              "      <td>NaN</td>\n",
              "      <td>NaN</td>\n",
              "      <td>NaN</td>\n",
              "      <td>NaN</td>\n",
              "      <td>NaN</td>\n",
              "      <td>NaN</td>\n",
              "      <td>NaN</td>\n",
              "      <td>NaN</td>\n",
              "      <td>NaN</td>\n",
              "      <td>NaN</td>\n",
              "      <td>NaN</td>\n",
              "      <td>NaN</td>\n",
              "      <td>NaN</td>\n",
              "      <td>NaN</td>\n",
              "      <td>NaN</td>\n",
              "      <td>NaN</td>\n",
              "      <td>NaN</td>\n",
              "      <td>NaN</td>\n",
              "      <td>8.22</td>\n",
              "      <td>8.22</td>\n",
              "      <td>6.90</td>\n",
              "      <td>NaN</td>\n",
              "      <td>NaN</td>\n",
              "      <td>0.0</td>\n",
              "      <td>0.0</td>\n",
              "      <td>NaN</td>\n",
              "      <td>NaN</td>\n",
              "      <td>NaN</td>\n",
              "      <td>NaN</td>\n",
              "      <td>NaN</td>\n",
              "      <td>NaN</td>\n",
              "      <td>NaN</td>\n",
              "      <td>2</td>\n",
              "      <td>U</td>\n",
              "      <td>P</td>\n",
              "      <td>2015-07-22</td>\n",
              "      <td>2015</td>\n",
              "    </tr>\n",
              "    <tr>\n",
              "      <th>102630</th>\n",
              "      <td>a7c7AAAAAAMVLNUZ</td>\n",
              "      <td>BM00016399762</td>\n",
              "      <td>1.0</td>\n",
              "      <td>M</td>\n",
              "      <td>1</td>\n",
              "      <td>23</td>\n",
              "      <td>NaN</td>\n",
              "      <td>NaN</td>\n",
              "      <td>NaN</td>\n",
              "      <td>NaN</td>\n",
              "      <td>NaN</td>\n",
              "      <td>NaN</td>\n",
              "      <td>NaN</td>\n",
              "      <td>NaN</td>\n",
              "      <td>99283</td>\n",
              "      <td>NaN</td>\n",
              "      <td>NaN</td>\n",
              "      <td>1.0</td>\n",
              "      <td>2016-10-17</td>\n",
              "      <td>2016-10-17</td>\n",
              "      <td>2</td>\n",
              "      <td>NaN</td>\n",
              "      <td>M79672</td>\n",
              "      <td>M79675</td>\n",
              "      <td>NaN</td>\n",
              "      <td>NaN</td>\n",
              "      <td>NaN</td>\n",
              "      <td>NaN</td>\n",
              "      <td>NaN</td>\n",
              "      <td>NaN</td>\n",
              "      <td>NaN</td>\n",
              "      <td>NaN</td>\n",
              "      <td>NaN</td>\n",
              "      <td>NaN</td>\n",
              "      <td>NaN</td>\n",
              "      <td>NaN</td>\n",
              "      <td>NaN</td>\n",
              "      <td>NaN</td>\n",
              "      <td>NaN</td>\n",
              "      <td>NaN</td>\n",
              "      <td>NaN</td>\n",
              "      <td>NaN</td>\n",
              "      <td>NaN</td>\n",
              "      <td>NaN</td>\n",
              "      <td>NaN</td>\n",
              "      <td>NaN</td>\n",
              "      <td>970.00</td>\n",
              "      <td>970.00</td>\n",
              "      <td>44.60</td>\n",
              "      <td>NaN</td>\n",
              "      <td>NaN</td>\n",
              "      <td>0.0</td>\n",
              "      <td>0.0</td>\n",
              "      <td>NaN</td>\n",
              "      <td>OTHER</td>\n",
              "      <td>OTHER</td>\n",
              "      <td>NaN</td>\n",
              "      <td>NaN</td>\n",
              "      <td>NaN</td>\n",
              "      <td>NaN</td>\n",
              "      <td>0</td>\n",
              "      <td>U</td>\n",
              "      <td>P</td>\n",
              "      <td>2016-11-16</td>\n",
              "      <td>2016</td>\n",
              "    </tr>\n",
              "    <tr>\n",
              "      <th>552992</th>\n",
              "      <td>pg03AAAAAAQCOAHC</td>\n",
              "      <td>NaN</td>\n",
              "      <td>1.0</td>\n",
              "      <td>A</td>\n",
              "      <td>0</td>\n",
              "      <td>13</td>\n",
              "      <td>NaN</td>\n",
              "      <td>1.0</td>\n",
              "      <td>NaN</td>\n",
              "      <td>NaN</td>\n",
              "      <td>NaN</td>\n",
              "      <td>NaN</td>\n",
              "      <td>NaN</td>\n",
              "      <td>NaN</td>\n",
              "      <td>NaN</td>\n",
              "      <td>NaN</td>\n",
              "      <td>250</td>\n",
              "      <td>NaN</td>\n",
              "      <td>2015-05-16</td>\n",
              "      <td>2015-05-16</td>\n",
              "      <td>1</td>\n",
              "      <td>NaN</td>\n",
              "      <td>4659</td>\n",
              "      <td>6869</td>\n",
              "      <td>6929</td>\n",
              "      <td>7862</td>\n",
              "      <td>NaN</td>\n",
              "      <td>NaN</td>\n",
              "      <td>NaN</td>\n",
              "      <td>NaN</td>\n",
              "      <td>NaN</td>\n",
              "      <td>NaN</td>\n",
              "      <td>NaN</td>\n",
              "      <td>NaN</td>\n",
              "      <td>NaN</td>\n",
              "      <td>NaN</td>\n",
              "      <td>NaN</td>\n",
              "      <td>NaN</td>\n",
              "      <td>NaN</td>\n",
              "      <td>NaN</td>\n",
              "      <td>NaN</td>\n",
              "      <td>NaN</td>\n",
              "      <td>NaN</td>\n",
              "      <td>NaN</td>\n",
              "      <td>NaN</td>\n",
              "      <td>NaN</td>\n",
              "      <td>20.70</td>\n",
              "      <td>0.00</td>\n",
              "      <td>0.00</td>\n",
              "      <td>NaN</td>\n",
              "      <td>NaN</td>\n",
              "      <td>0.0</td>\n",
              "      <td>0.0</td>\n",
              "      <td>NaN</td>\n",
              "      <td>HOSPITAL</td>\n",
              "      <td>HOSPITAL</td>\n",
              "      <td>NaN</td>\n",
              "      <td>NaN</td>\n",
              "      <td>NaN</td>\n",
              "      <td>NaN</td>\n",
              "      <td>1</td>\n",
              "      <td>U</td>\n",
              "      <td>P</td>\n",
              "      <td>2015-06-15</td>\n",
              "      <td>2015</td>\n",
              "    </tr>\n",
              "    <tr>\n",
              "      <th>141699</th>\n",
              "      <td>9004AAAAAAAIWZJJ</td>\n",
              "      <td>1.93473e+11</td>\n",
              "      <td>1.0</td>\n",
              "      <td>M</td>\n",
              "      <td>1</td>\n",
              "      <td>11</td>\n",
              "      <td>NaN</td>\n",
              "      <td>NaN</td>\n",
              "      <td>NaN</td>\n",
              "      <td>NaN</td>\n",
              "      <td>NaN</td>\n",
              "      <td>NaN</td>\n",
              "      <td>NaN</td>\n",
              "      <td>NaN</td>\n",
              "      <td>99212</td>\n",
              "      <td>NaN</td>\n",
              "      <td>NaN</td>\n",
              "      <td>1.0</td>\n",
              "      <td>2019-11-06</td>\n",
              "      <td>2019-11-06</td>\n",
              "      <td>2</td>\n",
              "      <td>NaN</td>\n",
              "      <td>M47812</td>\n",
              "      <td>NaN</td>\n",
              "      <td>NaN</td>\n",
              "      <td>NaN</td>\n",
              "      <td>NaN</td>\n",
              "      <td>NaN</td>\n",
              "      <td>NaN</td>\n",
              "      <td>NaN</td>\n",
              "      <td>NaN</td>\n",
              "      <td>NaN</td>\n",
              "      <td>NaN</td>\n",
              "      <td>NaN</td>\n",
              "      <td>NaN</td>\n",
              "      <td>NaN</td>\n",
              "      <td>NaN</td>\n",
              "      <td>NaN</td>\n",
              "      <td>NaN</td>\n",
              "      <td>NaN</td>\n",
              "      <td>NaN</td>\n",
              "      <td>NaN</td>\n",
              "      <td>NaN</td>\n",
              "      <td>NaN</td>\n",
              "      <td>NaN</td>\n",
              "      <td>NaN</td>\n",
              "      <td>133.00</td>\n",
              "      <td>112.20</td>\n",
              "      <td>102.20</td>\n",
              "      <td>0.0</td>\n",
              "      <td>10.0</td>\n",
              "      <td>0.0</td>\n",
              "      <td>0.0</td>\n",
              "      <td>NaN</td>\n",
              "      <td>OTHR_SPC</td>\n",
              "      <td>OTHR_SPC</td>\n",
              "      <td>NaN</td>\n",
              "      <td>NaN</td>\n",
              "      <td>NaN</td>\n",
              "      <td>NaN</td>\n",
              "      <td>0</td>\n",
              "      <td>U</td>\n",
              "      <td>P</td>\n",
              "      <td>2019-12-06</td>\n",
              "      <td>2019</td>\n",
              "    </tr>\n",
              "    <tr>\n",
              "      <th>355175</th>\n",
              "      <td>pg03AAAAAABZBLAE</td>\n",
              "      <td>NaN</td>\n",
              "      <td>4.0</td>\n",
              "      <td>M</td>\n",
              "      <td>1</td>\n",
              "      <td>13</td>\n",
              "      <td>NaN</td>\n",
              "      <td>1.0</td>\n",
              "      <td>NaN</td>\n",
              "      <td>NaN</td>\n",
              "      <td>NaN</td>\n",
              "      <td>NaN</td>\n",
              "      <td>NaN</td>\n",
              "      <td>NaN</td>\n",
              "      <td>NaN</td>\n",
              "      <td>NaN</td>\n",
              "      <td>450</td>\n",
              "      <td>NaN</td>\n",
              "      <td>2015-11-02</td>\n",
              "      <td>2015-11-02</td>\n",
              "      <td>2</td>\n",
              "      <td>NaN</td>\n",
              "      <td>R55</td>\n",
              "      <td>NaN</td>\n",
              "      <td>NaN</td>\n",
              "      <td>NaN</td>\n",
              "      <td>NaN</td>\n",
              "      <td>NaN</td>\n",
              "      <td>NaN</td>\n",
              "      <td>NaN</td>\n",
              "      <td>NaN</td>\n",
              "      <td>NaN</td>\n",
              "      <td>NaN</td>\n",
              "      <td>NaN</td>\n",
              "      <td>NaN</td>\n",
              "      <td>NaN</td>\n",
              "      <td>NaN</td>\n",
              "      <td>NaN</td>\n",
              "      <td>NaN</td>\n",
              "      <td>NaN</td>\n",
              "      <td>NaN</td>\n",
              "      <td>NaN</td>\n",
              "      <td>NaN</td>\n",
              "      <td>NaN</td>\n",
              "      <td>NaN</td>\n",
              "      <td>NaN</td>\n",
              "      <td>3027.00</td>\n",
              "      <td>52.91</td>\n",
              "      <td>52.91</td>\n",
              "      <td>NaN</td>\n",
              "      <td>NaN</td>\n",
              "      <td>0.0</td>\n",
              "      <td>0.0</td>\n",
              "      <td>NaN</td>\n",
              "      <td>HOSPITAL</td>\n",
              "      <td>HOSPITAL</td>\n",
              "      <td>NaN</td>\n",
              "      <td>NaN</td>\n",
              "      <td>NaN</td>\n",
              "      <td>NaN</td>\n",
              "      <td>1</td>\n",
              "      <td>U</td>\n",
              "      <td>P</td>\n",
              "      <td>2015-12-02</td>\n",
              "      <td>2015</td>\n",
              "    </tr>\n",
              "  </tbody>\n",
              "</table>\n",
              "</div>"
            ],
            "text/plain": [
              "                  pat_id        claimno  linenum  ... pmt_st_cd     paid_dt  year\n",
              "436407  pf06AAAAAAANBFBA            NaN      1.0  ...         P  2015-07-22  2015\n",
              "102630  a7c7AAAAAAMVLNUZ  BM00016399762      1.0  ...         P  2016-11-16  2016\n",
              "552992  pg03AAAAAAQCOAHC            NaN      1.0  ...         P  2015-06-15  2015\n",
              "141699  9004AAAAAAAIWZJJ    1.93473e+11      1.0  ...         P  2019-12-06  2019\n",
              "355175  pg03AAAAAABZBLAE            NaN      4.0  ...         P  2015-12-02  2015\n",
              "\n",
              "[5 rows x 65 columns]"
            ]
          },
          "metadata": {
            "tags": []
          },
          "execution_count": 9
        }
      ]
    },
    {
      "cell_type": "markdown",
      "metadata": {
        "id": "lrqr7SvhlMMw"
      },
      "source": [
        "### 2.2 Analyze the dataset"
      ]
    },
    {
      "cell_type": "code",
      "metadata": {
        "id": "1cCE5CJtfl96",
        "colab": {
          "base_uri": "https://localhost:8080/",
          "height": 400
        },
        "outputId": "c333eaba-ad80-4b8e-ea1a-e6e2e18e46cb"
      },
      "source": [
        "import numpy as np\n",
        "import matplotlib.pyplot as plt\n",
        "\n",
        "# Distribution of patients across regions\n",
        "rd = df_enroll[\"pat_region\"].value_counts().plot(kind=\"pie\", autopct=\"%1.1f%%\")\n",
        "rd.set_title(\"Distribution of patients across regions\")\n",
        "\n",
        "# Distribution of patients gender\n",
        "rd = df_enroll[\"der_sex\"].value_counts().plot(kind=\"pie\", autopct=\"%1.1f%%\")\n",
        "rd.set_title(\"Distribution of patients' gender\")\n",
        "\n",
        "# Distribution of Age\n",
        "df_enroll[\"age\"] = 2021 - df_enroll[\"der_yob\"]\n",
        "\n",
        "rd = df_enroll[df_enroll[\"der_yob\"] > 1900][\"age\"].plot(kind='hist', bins=15)\n",
        "rd.set_title(\"Distribution of patients' age\")\n",
        "\n",
        "# Get the count of claims paid (and denied)\n",
        "df_claims[\"pmt_st_cd\"].value_counts()\n",
        "\n",
        "# number of diagnosis populated in each claim\n",
        "diag_cols = [\"diag1\", \"diag2\", \"diag3\", \"diag4\", \"diag5\", \"diag6\", \"diag7\", \"diag8\", \"diag9\", \"diag10\", \"diag11\", \"diag12\"]\n",
        "df_claims[\"num_of_diag\"] = df_claims[diag_cols].notnull().sum(axis=1)\n",
        "df_claims[\"num_of_diag\"].mean()\n",
        "\n",
        "# number of icdprc populated in each claim\n",
        "icdprc_cols=[\"icdprc1\", \"icdprc2\", \"icdprc3\", \"icdprc4\", \"icdprc5\", \"icdprc6\", \"icdprc7\", \"icdprc8\", \"icdprc9\", \"icdprc10\", \"icdprc11\", \"icdprc12\"]\n",
        "df_claims[\"num_of_icdprc\"] = df_claims[icdprc_cols].notnull().sum(axis=1)\n",
        "df_claims[\"num_of_icdprc\"].mean()\n",
        "\n",
        "diag = []\n",
        "for colname in diag_cols:\n",
        "    diag.extend(pd.unique(df_claims[colname]))\n",
        "print(len(np.unique(diag)))\n",
        "# 22138\n",
        "\n",
        "prc = []\n",
        "for colname in icdprc_cols:\n",
        "    prc.extend(pd.unique(df_claims[colname]))\n",
        "print(len(np.unique(prc)))\n",
        "# 926\n",
        "\n",
        "\n",
        "# number of claims with same day service\n",
        "sum(df_claims[\"from_dt\"] == df_claims[\"to_dt\"])\n",
        "# 2378556 out of 2438054 i.e. 97.5%\n",
        "\n",
        "# Distribution of charges\n",
        "rd = df_claims[\"charge\"].plot(kind='hist', bins=15)\n",
        "rd.set_title(\"Distribution charges\")\n",
        "\n",
        "# Log charges makes more sense\n",
        "# filtering out rows where charges are less than 1\n",
        "rd = np.log10(df_claims[df_claims[\"charge\"] > 1][\"charge\"]).plot(kind='hist', bins=15)\n",
        "rd.set_title(\"Distribution of Log of Charges\")\n",
        "\n",
        "# Distribution of Paid amounts\n",
        "# filtering out rows where paid are less than 1\n",
        "rd = np.log10(df_claims[df_claims[\"paid\"] > 1][\"paid\"]).plot(kind='hist', bins=25)\n",
        "rd.set_title(\"Distribution of Log of Paid\")\n",
        "plt.show()\n",
        "\n",
        "\n",
        "# Checking the unique number of patients in the datasets\n",
        "print(len(pd.unique(df_enroll['pat_id'])))\n",
        "# 30000\n",
        "print(len(pd.unique(df_claims2015['pat_id'])))\n",
        "# 18927\n",
        "print(len(pd.unique(df_claims2016['pat_id'])))\n",
        "#21483\n",
        "print(len(pd.unique(df_claims2017['pat_id'])))\n",
        "#15190\n",
        "print(len(pd.unique(df_claims2018['pat_id'])))\n",
        "#6445\n",
        "print(len(pd.unique(df_claims2019['pat_id'])))\n",
        "#4884"
      ],
      "execution_count": null,
      "outputs": [
        {
          "output_type": "stream",
          "text": [
            "22138\n",
            "926\n"
          ],
          "name": "stdout"
        },
        {
          "output_type": "display_data",
          "data": {
            "image/png": "[encoded data removed]",
            "text/plain": [
              "<Figure size 432x288 with 1 Axes>"
            ]
          },
          "metadata": {
            "tags": []
          }
        },
        {
          "output_type": "stream",
          "text": [
            "30000\n",
            "18927\n",
            "21483\n",
            "15190\n",
            "6445\n",
            "4884\n"
          ],
          "name": "stdout"
        }
      ]
    },
    {
      "cell_type": "markdown",
      "metadata": {
        "id": "Hmy3BPKB0Nss"
      },
      "source": [
        "### 2.3 Embedding"
      ]
    },
    {
      "cell_type": "code",
      "metadata": {
        "id": "-C7rmoqSgYo-",
        "colab": {
          "base_uri": "https://localhost:8080/",
          "height": 315
        },
        "outputId": "55dcc09d-f864-4c83-b245-f7c9c71c887a"
      },
      "source": [
        "# Wei's code here\n",
        "#assign quarter to each record and convert 'to_dt' to datetime format\n",
        "df_claims[\"quarter\"] = pd.PeriodIndex(pd.to_datetime(df_claims[\"to_dt\"]), freq = 'Q')\n",
        "df_claims['to_dt'] = pd.to_datetime(df_claims['to_dt'])\n",
        "\n",
        "#find the length of claims for each patient\n",
        "df_claims_length = df_claims[['pat_id','to_dt']].groupby('pat_id').agg({'to_dt':['max','min']}).reset_index() \n",
        "df_claims_length.columns = ['pat_id','max','min']\n",
        "df_claims_length['length'] = df_claims_length['max'] - df_claims_length['min']\n",
        "df_claims_length['length'] = df_claims_length['length'].dt.days\n",
        "avg_claim_length = df_claims_length['length'].mean()\n",
        "min_claim_length = df_claims_length['length'].min()\n",
        "max_claim_length = df_claims_length['length'].max()\n",
        "print(min_claim_length,avg_claim_length,max_claim_length)\n",
        "rd = df_claims_length['length'].plot(kind='hist', bins=15)\n",
        "rd.set_title(\"Frequency of Length\")\n",
        "#most patients's length is less than three years, 12 quarters, so chooce an observation window of 12 quarters\n",
        "\n",
        "#calculate index date = last claim - 270 days (180days as prediction window + 90days as last quarter)\n",
        "claim_indx_date = df_claims[['pat_id','to_dt']].groupby('pat_id').agg({'to_dt':['max']}).reset_index()\n",
        "claim_indx_date.columns = ['pat_id','max']\n",
        "claim_indx_date['indx_date'] = claim_indx_date['max'] - pd.to_timedelta(270,unit='d')\n",
        "#filter claims, \n",
        "filterred_claims = pd.merge(df_claims,claim_indx_date,how = 'left',on=['pat_id'])\n",
        "#observation includes 1000 days(three years) before index date\n",
        "#prediction window is 180 days (two quarters), last 90 days(last quarter) is reserved as target\n",
        "filterred_observation = filterred_claims.loc[filterred_claims.to_dt<=filterred_claims.indx_date]\n",
        "filterred_observation = filterred_observation.loc[filterred_observation.to_dt>=filterred_observation.indx_date-pd.to_timedelta(1095,unit='d')]\n",
        "filterred_observation = filterred_observation.loc[filterred_observation.to_dt>=pd.to_datetime('2015-10-1')] #code changed after October 1, 2015\n",
        "filterred_target = filterred_claims.loc[filterred_claims.to_dt>=filterred_claims.indx_date+pd.to_timedelta(180,unit='d')]\n",
        "\n",
        "#find the number of claims after filter\n",
        "pat_claimsnumb = filterred_observation[['pat_id']].groupby('pat_id').agg({'pat_id':['count']}).reset_index()\n",
        "pat_claimsnumb.columns = ['pat_id','count']\n",
        "print(pat_claimsnumb.shape,pat_claimsnumb['count'].max(),pat_claimsnumb['count'].mean(),pat_claimsnumb['count'].min())"
      ],
      "execution_count": null,
      "outputs": [
        {
          "output_type": "stream",
          "text": [
            "0 647.9217659590098 1885\n",
            "(18474, 2) 3257 55.39920970011909 1\n"
          ],
          "name": "stdout"
        },
        {
          "output_type": "display_data",
          "data": {
            "image/png": "[encoded data removed]",
            "text/plain": [
              "<Figure size 432x288 with 1 Axes>"
            ]
          },
          "metadata": {
            "tags": [],
            "needs_background": "light"
          }
        }
      ]
    },
    {
      "cell_type": "code",
      "metadata": {
        "id": "zs1T_C4ixruV",
        "colab": {
          "base_uri": "https://localhost:8080/"
        },
        "outputId": "00a527cb-57ca-44ec-b7b4-6b0d0987ad6f"
      },
      "source": [
        "diag_cols = [\"diag1\", \"diag2\", \"diag3\", \"diag4\", \"diag5\", \"diag6\", \"diag7\", \"diag8\", \"diag9\", \"diag10\", \"diag11\", \"diag12\"]\n",
        "icdprc_cols=[\"icdprc1\", \"icdprc2\", \"icdprc3\", \"icdprc4\", \"icdprc5\", \"icdprc6\", \"icdprc7\", \"icdprc8\", \"icdprc9\", \"icdprc10\", \"icdprc11\", \"icdprc12\"]\n",
        "\n",
        "#number of unique diag codes and prc codes after filter\n",
        "diag = []\n",
        "for colname in diag_cols:\n",
        "    diag.extend(pd.unique(filterred_observation[colname]))\n",
        "diag_dict = np.unique(diag)\n",
        "print(len(np.unique(diag)))\n",
        "\n",
        "prc = []\n",
        "for colname in icdprc_cols:\n",
        "    prc.extend(pd.unique(filterred_observation[colname]))\n",
        "prc_dict = np.unique(prc)\n",
        "print(len(np.unique(prc)))\n",
        "\n",
        "#number of unique record type, procedure code and revenue code(high-level description of services)\n",
        "filterred_observation[\"rectype\"] = filterred_observation[\"rectype\"].astype('str')\n",
        "filterred_observation[\"proc_cde\"] = filterred_observation[\"proc_cde\"].astype('str')\n",
        "filterred_observation[\"rev_code\"] = filterred_observation[\"rev_code\"].astype('str')\n",
        "print(len(np.unique(filterred_observation[\"rectype\"])))\n",
        "print(len(np.unique(filterred_observation[\"proc_cde\"])))\n",
        "print(len(np.unique(filterred_observation[\"rev_code\"])))\n",
        "rectype_dict = np.unique(filterred_observation[\"rectype\"])\n",
        "proc_cde_dict = np.unique(filterred_observation[\"proc_cde\"])\n",
        "rev_code_dict = np.unique(filterred_observation[\"rev_code\"])\n",
        "\n",
        "#extract interested columns\n",
        "filtered_features = filterred_observation[[\"pat_id\",\"paid\",\"charge\",\"quarter\",\"rectype\",\"proc_cde\",\"rev_code\",\"diag1\", \"diag2\", \"diag3\", \n",
        "                                           \"diag4\", \"diag5\", \"diag6\", \"diag7\", \"diag8\", \"diag9\", \"diag10\", \"diag11\",\"diag12\",\"icdprc1\", \n",
        "                                           \"icdprc2\", \"icdprc3\", \"icdprc4\", \"icdprc5\", \"icdprc6\", \"icdprc7\", \"icdprc8\", \"icdprc9\",\"icdprc10\",\n",
        "                                           \"icdprc11\", \"icdprc12\"]]\n",
        "\n",
        "print(filtered_features.shape)\n"
      ],
      "execution_count": null,
      "outputs": [
        {
          "output_type": "stream",
          "text": [
            "12952\n",
            "420\n",
            "6\n",
            "6114\n",
            "718\n",
            "(1023445, 31)\n"
          ],
          "name": "stdout"
        }
      ]
    },
    {
      "cell_type": "code",
      "metadata": {
        "id": "nzhtkICX13WX",
        "colab": {
          "base_uri": "https://localhost:8080/",
          "height": 1000
        },
        "outputId": "6ab99d89-3f0a-4776-cdfd-fd507ea6809f"
      },
      "source": [
        "#investigate unqiue codes after filter\n",
        "proc_cde_valuecount = filtered_features[\"proc_cde\"].value_counts()\n",
        "rev_code_valuecount = filtered_features[\"rev_code\"].value_counts()\n",
        "diag_valuecount = filtered_features[\"diag1\"].value_counts()\n",
        "prc_valuecount = filtered_features[\"icdprc1\"].value_counts()\n",
        "\n",
        "proc_cde_valuecount = proc_cde_valuecount.to_frame()\n",
        "rd = np.log10(proc_cde_valuecount).plot(kind='hist', bins=15)\n",
        "rd.set_title(\"frequency of proc_cde\")\n",
        "#among 6114, less than 500 proc codes appear more than 100 times\n",
        "rev_code_valuecount = rev_code_valuecount.to_frame()\n",
        "rd = np.log10(rev_code_valuecount).plot(kind='hist', bins=15)\n",
        "rd.set_title(\"frequency of revenue code\")\n",
        "#among 718, less than 300 revenue codes appear more than 100 times\n",
        "diag_valuecount = diag_valuecount.to_frame()\n",
        "rd = np.log10(diag_valuecount).plot(kind='hist', bins=15)\n",
        "rd.set_title(\"frequency of diag code\")\n",
        "#among 12952, about 1000 diag codes appear more than 100 times\n",
        "prc_valuecount = prc_valuecount.to_frame()\n",
        "rd = np.log10(prc_valuecount).plot(kind='hist', bins=15)\n",
        "rd.set_title(\"frequency of prc code\")\n",
        "#among 420, less than 50 appear more than 100 times\n",
        "\n",
        "proc_cde_valuecount = filtered_features[\"proc_cde\"].value_counts().reset_index()\n",
        "rev_code_valuecount = filtered_features[\"rev_code\"].value_counts().reset_index()\n",
        "diag_valuecount = filtered_features[\"diag1\"].value_counts().reset_index()\n",
        "prc_valuecount = filtered_features[\"icdprc1\"].value_counts().reset_index()\n",
        "\n",
        "#apply thresholds on codes to extract dictionary for high frequency codes\n",
        "proc_cde_dict = set(proc_cde_valuecount.apply(lambda x: x['index'] if x['proc_cde']>=1000 else 0,axis=1).to_list())\n",
        "rev_code_dict = set(rev_code_valuecount.apply(lambda x: x['index'] if x['rev_code']>=1000 else 0,axis=1).to_list())\n",
        "diag_dict = set(diag_valuecount.apply(lambda x: x['index'] if x['diag1']>=1000 else 0,axis=1).to_list())\n",
        "prc_dict = set(prc_valuecount.apply(lambda x: x['index'] if x['icdprc1']>=100 else 0,axis=1).to_list())\n",
        "proc_cde_dict.remove(0)\n",
        "rev_code_dict.remove(0)\n",
        "diag_dict.remove(0)\n",
        "prc_dict.remove(0)\n",
        "\n",
        "print(len(proc_cde_dict),len(rev_code_dict),len(diag_dict),len(prc_dict))\n",
        "#total code features are reduced to less than 300 after filtering\n",
        "\n",
        "#filter out code features that not appears in the dictionary\n",
        "def combine_columns_into_list(x,cols,dict_set):\n",
        "    out = list()\n",
        "    for col in cols:\n",
        "        if x[col] in dict_set:\n",
        "            out.append(x[col])\n",
        "    return out\n",
        "\n",
        "filtered_features['diags'] = filtered_features.apply(lambda x: combine_columns_into_list(x,[\"diag1\",\"diag2\",\"diag3\",\"diag4\",\"diag5\",\"diag6\",\"diag7\",\"diag8\",\"diag9\",\"diag10\"],diag_dict),axis=1)\n",
        "filtered_features['rev_code'] = filtered_features.apply(lambda x: x['rev_code'] if x['rev_code'] in rev_code_dict else 0,axis=1)\n",
        "filtered_features['icdprc'] = filtered_features.apply(lambda x: x['icdprc1'] if x['icdprc1'] in prc_dict else 0,axis=1)\n",
        "filtered_features['proc_cde'] = filtered_features.apply(lambda x: x['proc_cde'] if x['proc_cde'] in proc_cde_dict else 0,axis=1)\n",
        "\n",
        "#drop original code columns\n",
        "dropped_features = [\"diag1\", \"diag2\", \"diag3\", \"diag4\", \"diag5\", \"diag6\", \"diag7\", \"diag8\", \"diag9\", \"diag10\", \"diag11\", \n",
        "                \"diag12\",\"icdprc1\", \"icdprc2\", \"icdprc3\", \"icdprc4\", \"icdprc5\", \"icdprc6\", \"icdprc7\", \"icdprc8\", \"icdprc9\",\n",
        "                \"icdprc10\", \"icdprc11\", \"icdprc12\"]\n",
        "filtered_features = filtered_features.drop(dropped_features,axis=1)\n",
        "\n",
        "print(filtered_features.shape)\n"
      ],
      "execution_count": null,
      "outputs": [
        {
          "output_type": "stream",
          "text": [
            "115 41 105 7\n"
          ],
          "name": "stdout"
        },
        {
          "output_type": "stream",
          "text": [
            "/usr/local/lib/python3.7/dist-packages/ipykernel_launcher.py:50: SettingWithCopyWarning: \n",
            "A value is trying to be set on a copy of a slice from a DataFrame.\n",
            "Try using .loc[row_indexer,col_indexer] = value instead\n",
            "\n",
            "See the caveats in the documentation: https://pandas.pydata.org/pandas-docs/stable/user_guide/indexing.html#returning-a-view-versus-a-copy\n",
            "/usr/local/lib/python3.7/dist-packages/ipykernel_launcher.py:51: SettingWithCopyWarning: \n",
            "A value is trying to be set on a copy of a slice from a DataFrame.\n",
            "Try using .loc[row_indexer,col_indexer] = value instead\n",
            "\n",
            "See the caveats in the documentation: https://pandas.pydata.org/pandas-docs/stable/user_guide/indexing.html#returning-a-view-versus-a-copy\n",
            "/usr/local/lib/python3.7/dist-packages/ipykernel_launcher.py:52: SettingWithCopyWarning: \n",
            "A value is trying to be set on a copy of a slice from a DataFrame.\n",
            "Try using .loc[row_indexer,col_indexer] = value instead\n",
            "\n",
            "See the caveats in the documentation: https://pandas.pydata.org/pandas-docs/stable/user_guide/indexing.html#returning-a-view-versus-a-copy\n",
            "/usr/local/lib/python3.7/dist-packages/ipykernel_launcher.py:53: SettingWithCopyWarning: \n",
            "A value is trying to be set on a copy of a slice from a DataFrame.\n",
            "Try using .loc[row_indexer,col_indexer] = value instead\n",
            "\n",
            "See the caveats in the documentation: https://pandas.pydata.org/pandas-docs/stable/user_guide/indexing.html#returning-a-view-versus-a-copy\n"
          ],
          "name": "stderr"
        },
        {
          "output_type": "stream",
          "text": [
            "(1023445, 9)\n"
          ],
          "name": "stdout"
        },
        {
          "output_type": "display_data",
          "data": {
            "image/png": "[encoded data removed]",
            "text/plain": [
              "<Figure size 432x288 with 1 Axes>"
            ]
          },
          "metadata": {
            "tags": [],
            "needs_background": "light"
          }
        },
        {
          "output_type": "display_data",
          "data": {
            "image/png": "[encoded data removed]",
            "text/plain": [
              "<Figure size 432x288 with 1 Axes>"
            ]
          },
          "metadata": {
            "tags": [],
            "needs_background": "light"
          }
        },
        {
          "output_type": "display_data",
          "data": {
            "image/png": "[encoded data removed]",
            "text/plain": [
              "<Figure size 432x288 with 1 Axes>"
            ]
          },
          "metadata": {
            "tags": [],
            "needs_background": "light"
          }
        },
        {
          "output_type": "display_data",
          "data": {
            "image/png": "[encoded data removed]",
            "text/plain": [
              "<Figure size 432x288 with 1 Axes>"
            ]
          },
          "metadata": {
            "tags": [],
            "needs_background": "light"
          }
        }
      ]
    },
    {
      "cell_type": "code",
      "metadata": {
        "id": "IMY9zCQ_h_xR"
      },
      "source": [
        "filtered_features = filtered_features.drop(['charge'],axis=1)"
      ],
      "execution_count": null,
      "outputs": []
    },
    {
      "cell_type": "code",
      "metadata": {
        "id": "URl6Z-bJ20d6",
        "colab": {
          "base_uri": "https://localhost:8080/"
        },
        "outputId": "22e8dfc8-85cb-4d22-9e04-973cb2bb2804"
      },
      "source": [
        "#build multi-hot for rectype, proc_cde, rev_code, recvtype and icdprc\n",
        "filtered_features = pd.get_dummies(filtered_features,columns = ['rectype','proc_cde','rev_code','icdprc'])\n",
        "print(filtered_features.shape)\n",
        "filtered_dict_features = filtered_features.copy(deep=True)\n",
        "\n",
        "#build multi-hot for diags list feature\n",
        "v = filtered_dict_features.diags.values\n",
        "l = [len(x) for x in v.tolist()]\n",
        "f, u = pd.factorize(np.concatenate(v))\n",
        "n, m = len(v), u.size\n",
        "i = np.arange(n).repeat(l)\n",
        "\n",
        "dummies = pd.DataFrame(\n",
        "    np.bincount(i * m + f, minlength=n * m).reshape(n, m),\n",
        "    filtered_dict_features.index, u\n",
        ")\n",
        "\n",
        "filtered_dict_features = filtered_dict_features.drop('diags', 1).join(dummies)\n",
        "\n",
        "#filtered_dict_features.to_pickle('./filterd_feature_dict_281.pkl')\n",
        "filtered_dict_features = filtered_dict_features.groupby(['pat_id','quarter']).sum().reset_index()\n",
        "#sort the pat_id and quarter in ascending order\n",
        "filtered_dict_features = filtered_dict_features.sort_values(by=['pat_id','quarter'],ascending=False)\n",
        "\n",
        "print(filtered_dict_features.shape)\n"
      ],
      "execution_count": null,
      "outputs": [
        {
          "output_type": "stream",
          "text": [
            "(1023445, 176)\n",
            "(72814, 280)\n"
          ],
          "name": "stdout"
        }
      ]
    },
    {
      "cell_type": "code",
      "metadata": {
        "id": "KT9XeY10ieFT",
        "colab": {
          "base_uri": "https://localhost:8080/"
        },
        "outputId": "a8e82920-804e-4db9-c7f0-95fa12ba36e5"
      },
      "source": [
        "#filtered_dict_features = filtered_dict_features.drop(['charge'],axis = 1)\n",
        "print(filtered_dict_features.shape)\n",
        "filtered_dict_features.to_csv('./feature_280.csv', index = False, header=True)"
      ],
      "execution_count": null,
      "outputs": [
        {
          "output_type": "stream",
          "text": [
            "(72814, 280)\n"
          ],
          "name": "stdout"
        }
      ]
    },
    {
      "cell_type": "code",
      "metadata": {
        "id": "ZMMmce4jiXJq"
      },
      "source": [
        "#build pat_id list to extract data from filtered_dict_features\n",
        "pat_ids_dict = set(np.unique(filtered_dict_features['pat_id']))\n",
        "pat_ids_dict = sorted(list(pat_ids_dict),reverse=True)\n",
        "\n",
        "\n",
        "#construct data for model training\n",
        "x = np.zeros((18474,278*12))\n",
        "\n",
        "\n",
        "## construct x matrix\n",
        "num_pat = 0\n",
        "for pat in pat_ids_dict:\n",
        "    pat_val = filtered_dict_features.loc[filtered_dict_features['pat_id']==pat]\n",
        "    pat_val = pat_val.drop(['pat_id','quarter'],axis=1)\n",
        "    raw_values = pat_val.values.tolist()\n",
        "    if len(raw_values)>12:\n",
        "        raw_values = raw_values[:-1] #in case of 13 quarters\n",
        "    values = [item for sublist in raw_values for item in sublist]\n",
        "    x[num_pat,:len(values)] = values\n",
        "    num_pat+=1\n",
        "\n",
        "#np.savetxt(\"x_18474_3348.csv\", x, delimiter=\",\")\n"
      ],
      "execution_count": null,
      "outputs": []
    },
    {
      "cell_type": "code",
      "metadata": {
        "id": "vICrkdVa3z5T",
        "colab": {
          "base_uri": "https://localhost:8080/"
        },
        "outputId": "3df47778-26f5-4863-f206-a3e221dd49d8"
      },
      "source": [
        "#build the y vector\n",
        "y_paid = filterred_target[['pat_id','paid']].groupby('pat_id').agg({'paid':['sum']}).reset_index() \n",
        "y_charge = filterred_target[['pat_id','charge']].groupby('pat_id').agg({'charge':['sum']}).reset_index() \n",
        "y_paid.columns = ['pat_id','paid']\n",
        "y_charge.columns = ['pat_id','charge']\n",
        "print(y_paid.shape,y_charge.shape)\n",
        "print(y_paid.isnull().values.any(),y_charge.isnull().values.any())\n",
        "\n",
        "y_charge['miss'] = y_charge.apply(lambda x: 0 if x['pat_id'] in pat_ids_dict else 1,axis=1)\n",
        "y_charge = y_charge.loc[y_charge['miss']!=1]\n",
        "y_charge = y_charge.drop(['miss'],axis=1)\n",
        "y_charge = y_charge.sort_values(by=['pat_id'],ascending = False)\n",
        "\n",
        "y_paid['miss'] = y_paid.apply(lambda x: 0 if x['pat_id'] in pat_ids_dict else 1,axis=1)\n",
        "y_paid = y_paid.loc[y_paid['miss']!=1]\n",
        "y_paid = y_paid.drop(['miss'],axis=1)\n",
        "y_paid = y_paid.sort_values(by=['pat_id'],ascending = False)\n",
        "\n",
        "#patient id is matched row by row between y_paid and x\n",
        "print(y_charge['pat_id'].to_list()==pat_ids_dict)\n",
        "print(y_paid['pat_id'].to_list()==pat_ids_dict)\n",
        "#True True\n",
        "\n",
        "ypaid = np.array(y_paid['paid'].to_list())\n",
        "#np.savetxt(\"ypaid.csv\", ypaid, delimiter=\",\")\n",
        "ycharge = np.array(y_charge['charge'].to_list())\n",
        "#np.savetxt(\"ycharge.csv\", ycharge, delimiter=\",\")\n"
      ],
      "execution_count": null,
      "outputs": [
        {
          "output_type": "stream",
          "text": [
            "(27226, 2) (27226, 2)\n",
            "False False\n",
            "True\n",
            "True\n"
          ],
          "name": "stdout"
        }
      ]
    },
    {
      "cell_type": "code",
      "metadata": {
        "id": "4wSCphZS5pll"
      },
      "source": [
        "# Load csv data that is already preprocessed by Wei\n",
        "# -> Wei's code should be in this ipynb?"
      ],
      "execution_count": null,
      "outputs": []
    },
    {
      "cell_type": "markdown",
      "metadata": {
        "id": "TdNc02_fxghT"
      },
      "source": [
        "## **3. Dataset loading/normalization/split**"
      ]
    },
    {
      "cell_type": "markdown",
      "metadata": {
        "id": "_WjYLaS8YYqW"
      },
      "source": [
        "### 3.2 Load prepared data"
      ]
    },
    {
      "cell_type": "code",
      "metadata": {
        "id": "cWCk2xBeR61c"
      },
      "source": [
        "#\n",
        "def read_emb_csv(filepath):\n",
        "    #pd_x = pd.read_csv(filepath + 'x_18474_3348.csv')\n",
        "    pd_x = pd.read_csv(filepath + 'x_18474_3336.csv')\n",
        "    pd_y_charge = pd.read_csv(filepath + 'ycharge.csv')\n",
        "    pd_y_paid = pd.read_csv(filepath + 'ypaid.csv')\n",
        "\n",
        "    return pd_x, pd_y_charge, pd_y_paid\n",
        "\n",
        "# load the emb csv\n",
        "EMB_DATA_PATH = '/content/drive/MyDrive/iqvia_data/'\n",
        "pd_x, pd_y_charge, pd_y_paid = read_emb_csv(EMB_DATA_PATH) \n",
        "    "
      ],
      "execution_count": 7,
      "outputs": []
    },
    {
      "cell_type": "code",
      "metadata": {
        "id": "f3cDoh8DhZKb",
        "colab": {
          "base_uri": "https://localhost:8080/"
        },
        "outputId": "9bc15b89-c153-46f7-a06c-6e0205992d4c"
      },
      "source": [
        "print(\"pd_x: {}\".format(pd_x.shape))\n",
        "print(\"pd_y_charge: {}\".format(pd_y_charge.shape))\n",
        "print(\"pd_y_paid: {}\".format(pd_y_paid.shape))"
      ],
      "execution_count": 8,
      "outputs": [
        {
          "output_type": "stream",
          "text": [
            "pd_x: (18473, 3336)\n",
            "pd_y_charge: (18473, 1)\n",
            "pd_y_paid: (18473, 1)\n"
          ],
          "name": "stdout"
        }
      ]
    },
    {
      "cell_type": "code",
      "metadata": {
        "colab": {
          "base_uri": "https://localhost:8080/",
          "height": 297
        },
        "id": "xnXvmTXTOTDg",
        "outputId": "a42c3f7d-511f-42b4-f5cb-b5f797458877"
      },
      "source": [
        "pd_y_paid.describe()"
      ],
      "execution_count": 9,
      "outputs": [
        {
          "output_type": "execute_result",
          "data": {
            "text/html": [
              "<div>\n",
              "<style scoped>\n",
              "    .dataframe tbody tr th:only-of-type {\n",
              "        vertical-align: middle;\n",
              "    }\n",
              "\n",
              "    .dataframe tbody tr th {\n",
              "        vertical-align: top;\n",
              "    }\n",
              "\n",
              "    .dataframe thead th {\n",
              "        text-align: right;\n",
              "    }\n",
              "</style>\n",
              "<table border=\"1\" class=\"dataframe\">\n",
              "  <thead>\n",
              "    <tr style=\"text-align: right;\">\n",
              "      <th></th>\n",
              "      <th>5.061299999999999955e+02</th>\n",
              "    </tr>\n",
              "  </thead>\n",
              "  <tbody>\n",
              "    <tr>\n",
              "      <th>count</th>\n",
              "      <td>1.847300e+04</td>\n",
              "    </tr>\n",
              "    <tr>\n",
              "      <th>mean</th>\n",
              "      <td>1.810990e+03</td>\n",
              "    </tr>\n",
              "    <tr>\n",
              "      <th>std</th>\n",
              "      <td>1.460997e+04</td>\n",
              "    </tr>\n",
              "    <tr>\n",
              "      <th>min</th>\n",
              "      <td>0.000000e+00</td>\n",
              "    </tr>\n",
              "    <tr>\n",
              "      <th>25%</th>\n",
              "      <td>9.391000e+01</td>\n",
              "    </tr>\n",
              "    <tr>\n",
              "      <th>50%</th>\n",
              "      <td>3.042600e+02</td>\n",
              "    </tr>\n",
              "    <tr>\n",
              "      <th>75%</th>\n",
              "      <td>9.233300e+02</td>\n",
              "    </tr>\n",
              "    <tr>\n",
              "      <th>max</th>\n",
              "      <td>1.552063e+06</td>\n",
              "    </tr>\n",
              "  </tbody>\n",
              "</table>\n",
              "</div>"
            ],
            "text/plain": [
              "       5.061299999999999955e+02\n",
              "count              1.847300e+04\n",
              "mean               1.810990e+03\n",
              "std                1.460997e+04\n",
              "min                0.000000e+00\n",
              "25%                9.391000e+01\n",
              "50%                3.042600e+02\n",
              "75%                9.233300e+02\n",
              "max                1.552063e+06"
            ]
          },
          "metadata": {
            "tags": []
          },
          "execution_count": 9
        }
      ]
    },
    {
      "cell_type": "code",
      "metadata": {
        "colab": {
          "base_uri": "https://localhost:8080/",
          "height": 328
        },
        "id": "W68OaeLANnb5",
        "outputId": "90559609-5a6b-4afd-a9d5-c5f48104f9a1"
      },
      "source": [
        "pd_y_paid.hist(bins=100, log=True)"
      ],
      "execution_count": 10,
      "outputs": [
        {
          "output_type": "execute_result",
          "data": {
            "text/plain": [
              "array([[<matplotlib.axes._subplots.AxesSubplot object at 0x7f5702fc1e90>]],\n",
              "      dtype=object)"
            ]
          },
          "metadata": {
            "tags": []
          },
          "execution_count": 10
        },
        {
          "output_type": "display_data",
          "data": {
            "image/png": "[encoded data removed]",
            "text/plain": [
              "<Figure size 432x288 with 1 Axes>"
            ]
          },
          "metadata": {
            "tags": [],
            "needs_background": "light"
          }
        }
      ]
    },
    {
      "cell_type": "code",
      "metadata": {
        "colab": {
          "base_uri": "https://localhost:8080/"
        },
        "id": "P5GaZPJkQTYr",
        "outputId": "f6d8c9a5-9b50-46fa-99a7-3ca55dff742a"
      },
      "source": [
        "outlier = np.where(pd_y_paid > 100000)[0]\n",
        "print(outlier)\n",
        "print(outlier.shape)\n",
        "#print(pd_y_paid.loc[np.where(pd_y_paid > 100000)[0]])"
      ],
      "execution_count": 11,
      "outputs": [
        {
          "output_type": "stream",
          "text": [
            "[  194   443  1084  1356  1717  2961  3335  3925  4108  4551  5866  6689\n",
            "  6856  6928  8255 11465 12310 12453 13161 16719]\n",
            "(20,)\n"
          ],
          "name": "stdout"
        }
      ]
    },
    {
      "cell_type": "code",
      "metadata": {
        "id": "JJ2m5lcRR2gX"
      },
      "source": [
        "# Drop outlier\n",
        "pd_x = pd_x.drop(index=outlier)\n",
        "pd_y_paid = pd_y_paid.drop(index=outlier)"
      ],
      "execution_count": 12,
      "outputs": []
    },
    {
      "cell_type": "code",
      "metadata": {
        "colab": {
          "base_uri": "https://localhost:8080/",
          "height": 346
        },
        "id": "dz14FTy4aFJu",
        "outputId": "9246c98d-9f34-4392-8cfd-1056989223cf"
      },
      "source": [
        "pd_x.describe()"
      ],
      "execution_count": 13,
      "outputs": [
        {
          "output_type": "execute_result",
          "data": {
            "text/html": [
              "<div>\n",
              "<style scoped>\n",
              "    .dataframe tbody tr th:only-of-type {\n",
              "        vertical-align: middle;\n",
              "    }\n",
              "\n",
              "    .dataframe tbody tr th {\n",
              "        vertical-align: top;\n",
              "    }\n",
              "\n",
              "    .dataframe thead th {\n",
              "        text-align: right;\n",
              "    }\n",
              "</style>\n",
              "<table border=\"1\" class=\"dataframe\">\n",
              "  <thead>\n",
              "    <tr style=\"text-align: right;\">\n",
              "      <th></th>\n",
              "      <th>3.487200000000000273e+02</th>\n",
              "      <th>0.000000000000000000e+00</th>\n",
              "      <th>0.000000000000000000e+00.1</th>\n",
              "      <th>0.000000000000000000e+00.2</th>\n",
              "      <th>8.000000000000000000e+00</th>\n",
              "      <th>0.000000000000000000e+00.3</th>\n",
              "      <th>1.000000000000000000e+01</th>\n",
              "      <th>0.000000000000000000e+00.4</th>\n",
              "      <th>0.000000000000000000e+00.5</th>\n",
              "      <th>0.000000000000000000e+00.6</th>\n",
              "      <th>0.000000000000000000e+00.7</th>\n",
              "      <th>0.000000000000000000e+00.8</th>\n",
              "      <th>0.000000000000000000e+00.9</th>\n",
              "      <th>0.000000000000000000e+00.10</th>\n",
              "      <th>0.000000000000000000e+00.11</th>\n",
              "      <th>0.000000000000000000e+00.12</th>\n",
              "      <th>0.000000000000000000e+00.13</th>\n",
              "      <th>0.000000000000000000e+00.14</th>\n",
              "      <th>0.000000000000000000e+00.15</th>\n",
              "      <th>0.000000000000000000e+00.16</th>\n",
              "      <th>0.000000000000000000e+00.17</th>\n",
              "      <th>0.000000000000000000e+00.18</th>\n",
              "      <th>0.000000000000000000e+00.19</th>\n",
              "      <th>0.000000000000000000e+00.20</th>\n",
              "      <th>0.000000000000000000e+00.21</th>\n",
              "      <th>0.000000000000000000e+00.22</th>\n",
              "      <th>0.000000000000000000e+00.23</th>\n",
              "      <th>0.000000000000000000e+00.24</th>\n",
              "      <th>0.000000000000000000e+00.25</th>\n",
              "      <th>0.000000000000000000e+00.26</th>\n",
              "      <th>0.000000000000000000e+00.27</th>\n",
              "      <th>0.000000000000000000e+00.28</th>\n",
              "      <th>0.000000000000000000e+00.29</th>\n",
              "      <th>0.000000000000000000e+00.30</th>\n",
              "      <th>0.000000000000000000e+00.31</th>\n",
              "      <th>0.000000000000000000e+00.32</th>\n",
              "      <th>0.000000000000000000e+00.33</th>\n",
              "      <th>0.000000000000000000e+00.34</th>\n",
              "      <th>0.000000000000000000e+00.35</th>\n",
              "      <th>0.000000000000000000e+00.36</th>\n",
              "      <th>...</th>\n",
              "      <th>0.000000000000000000e+00.3245</th>\n",
              "      <th>0.000000000000000000e+00.3246</th>\n",
              "      <th>0.000000000000000000e+00.3247</th>\n",
              "      <th>0.000000000000000000e+00.3248</th>\n",
              "      <th>0.000000000000000000e+00.3249</th>\n",
              "      <th>0.000000000000000000e+00.3250</th>\n",
              "      <th>0.000000000000000000e+00.3251</th>\n",
              "      <th>0.000000000000000000e+00.3252</th>\n",
              "      <th>0.000000000000000000e+00.3253</th>\n",
              "      <th>0.000000000000000000e+00.3254</th>\n",
              "      <th>0.000000000000000000e+00.3255</th>\n",
              "      <th>0.000000000000000000e+00.3256</th>\n",
              "      <th>0.000000000000000000e+00.3257</th>\n",
              "      <th>0.000000000000000000e+00.3258</th>\n",
              "      <th>0.000000000000000000e+00.3259</th>\n",
              "      <th>0.000000000000000000e+00.3260</th>\n",
              "      <th>0.000000000000000000e+00.3261</th>\n",
              "      <th>0.000000000000000000e+00.3262</th>\n",
              "      <th>0.000000000000000000e+00.3263</th>\n",
              "      <th>0.000000000000000000e+00.3264</th>\n",
              "      <th>0.000000000000000000e+00.3265</th>\n",
              "      <th>0.000000000000000000e+00.3266</th>\n",
              "      <th>0.000000000000000000e+00.3267</th>\n",
              "      <th>0.000000000000000000e+00.3268</th>\n",
              "      <th>0.000000000000000000e+00.3269</th>\n",
              "      <th>0.000000000000000000e+00.3270</th>\n",
              "      <th>0.000000000000000000e+00.3271</th>\n",
              "      <th>0.000000000000000000e+00.3272</th>\n",
              "      <th>0.000000000000000000e+00.3273</th>\n",
              "      <th>0.000000000000000000e+00.3274</th>\n",
              "      <th>0.000000000000000000e+00.3275</th>\n",
              "      <th>0.000000000000000000e+00.3276</th>\n",
              "      <th>0.000000000000000000e+00.3277</th>\n",
              "      <th>0.000000000000000000e+00.3278</th>\n",
              "      <th>0.000000000000000000e+00.3279</th>\n",
              "      <th>0.000000000000000000e+00.3280</th>\n",
              "      <th>0.000000000000000000e+00.3281</th>\n",
              "      <th>0.000000000000000000e+00.3282</th>\n",
              "      <th>0.000000000000000000e+00.3283</th>\n",
              "      <th>0.000000000000000000e+00.3284</th>\n",
              "    </tr>\n",
              "  </thead>\n",
              "  <tbody>\n",
              "    <tr>\n",
              "      <th>count</th>\n",
              "      <td>18453.000000</td>\n",
              "      <td>18453.000000</td>\n",
              "      <td>18453.000000</td>\n",
              "      <td>18453.000000</td>\n",
              "      <td>18453.000000</td>\n",
              "      <td>18453.000000</td>\n",
              "      <td>18453.000000</td>\n",
              "      <td>18453.000000</td>\n",
              "      <td>18453.000000</td>\n",
              "      <td>18453.000000</td>\n",
              "      <td>18453.000000</td>\n",
              "      <td>18453.000000</td>\n",
              "      <td>18453.000000</td>\n",
              "      <td>18453.000000</td>\n",
              "      <td>18453.000000</td>\n",
              "      <td>18453.000000</td>\n",
              "      <td>18453.000000</td>\n",
              "      <td>18453.000000</td>\n",
              "      <td>18453.000000</td>\n",
              "      <td>18453.000000</td>\n",
              "      <td>18453.000000</td>\n",
              "      <td>18453.000000</td>\n",
              "      <td>18453.000000</td>\n",
              "      <td>18453.000000</td>\n",
              "      <td>18453.000000</td>\n",
              "      <td>18453.000000</td>\n",
              "      <td>18453.000000</td>\n",
              "      <td>18453.000000</td>\n",
              "      <td>18453.000000</td>\n",
              "      <td>18453.000000</td>\n",
              "      <td>18453.000000</td>\n",
              "      <td>18453.000000</td>\n",
              "      <td>18453.000000</td>\n",
              "      <td>18453.000000</td>\n",
              "      <td>18453.000000</td>\n",
              "      <td>18453.000000</td>\n",
              "      <td>18453.000000</td>\n",
              "      <td>18453.000000</td>\n",
              "      <td>18453.000000</td>\n",
              "      <td>18453.000000</td>\n",
              "      <td>...</td>\n",
              "      <td>18453.000000</td>\n",
              "      <td>18453.000000</td>\n",
              "      <td>18453.000000</td>\n",
              "      <td>18453.000000</td>\n",
              "      <td>18453.000000</td>\n",
              "      <td>18453.000000</td>\n",
              "      <td>18453.000000</td>\n",
              "      <td>18453.000000</td>\n",
              "      <td>18453.000000</td>\n",
              "      <td>18453.000000</td>\n",
              "      <td>18453.000000</td>\n",
              "      <td>18453.000000</td>\n",
              "      <td>18453.000000</td>\n",
              "      <td>18453.000000</td>\n",
              "      <td>18453.000000</td>\n",
              "      <td>18453.000000</td>\n",
              "      <td>18453.000000</td>\n",
              "      <td>18453.000000</td>\n",
              "      <td>18453.0</td>\n",
              "      <td>18453.000000</td>\n",
              "      <td>18453.000000</td>\n",
              "      <td>18453.000000</td>\n",
              "      <td>18453.000000</td>\n",
              "      <td>18453.000000</td>\n",
              "      <td>18453.000000</td>\n",
              "      <td>18453.000000</td>\n",
              "      <td>18453.000000</td>\n",
              "      <td>18453.000000</td>\n",
              "      <td>18453.000000</td>\n",
              "      <td>18453.000000</td>\n",
              "      <td>18453.000000</td>\n",
              "      <td>18453.000000</td>\n",
              "      <td>18453.000000</td>\n",
              "      <td>18453.000000</td>\n",
              "      <td>18453.000000</td>\n",
              "      <td>18453.000000</td>\n",
              "      <td>18453.000000</td>\n",
              "      <td>18453.000000</td>\n",
              "      <td>18453.0</td>\n",
              "      <td>18453.0</td>\n",
              "    </tr>\n",
              "    <tr>\n",
              "      <th>mean</th>\n",
              "      <td>927.337872</td>\n",
              "      <td>4.541104</td>\n",
              "      <td>0.023248</td>\n",
              "      <td>2.297187</td>\n",
              "      <td>2.903593</td>\n",
              "      <td>0.224137</td>\n",
              "      <td>0.162846</td>\n",
              "      <td>2.782800</td>\n",
              "      <td>0.149786</td>\n",
              "      <td>0.011543</td>\n",
              "      <td>0.015119</td>\n",
              "      <td>0.032786</td>\n",
              "      <td>0.015770</td>\n",
              "      <td>0.012031</td>\n",
              "      <td>0.011001</td>\n",
              "      <td>0.016366</td>\n",
              "      <td>0.037772</td>\n",
              "      <td>0.027584</td>\n",
              "      <td>0.098304</td>\n",
              "      <td>0.088603</td>\n",
              "      <td>0.012302</td>\n",
              "      <td>0.043841</td>\n",
              "      <td>0.024657</td>\n",
              "      <td>0.032786</td>\n",
              "      <td>0.024386</td>\n",
              "      <td>0.011272</td>\n",
              "      <td>0.031648</td>\n",
              "      <td>0.007858</td>\n",
              "      <td>0.011922</td>\n",
              "      <td>0.014686</td>\n",
              "      <td>0.010730</td>\n",
              "      <td>0.060370</td>\n",
              "      <td>0.011380</td>\n",
              "      <td>0.013602</td>\n",
              "      <td>0.012031</td>\n",
              "      <td>0.012898</td>\n",
              "      <td>0.023628</td>\n",
              "      <td>0.051428</td>\n",
              "      <td>0.009755</td>\n",
              "      <td>0.015661</td>\n",
              "      <td>...</td>\n",
              "      <td>0.005257</td>\n",
              "      <td>0.001734</td>\n",
              "      <td>0.000542</td>\n",
              "      <td>0.002222</td>\n",
              "      <td>0.003143</td>\n",
              "      <td>0.002113</td>\n",
              "      <td>0.003577</td>\n",
              "      <td>0.000542</td>\n",
              "      <td>0.006503</td>\n",
              "      <td>0.003089</td>\n",
              "      <td>0.002005</td>\n",
              "      <td>0.005419</td>\n",
              "      <td>0.004064</td>\n",
              "      <td>0.001843</td>\n",
              "      <td>0.002059</td>\n",
              "      <td>0.002222</td>\n",
              "      <td>0.001734</td>\n",
              "      <td>0.005907</td>\n",
              "      <td>0.0</td>\n",
              "      <td>0.001138</td>\n",
              "      <td>0.000054</td>\n",
              "      <td>0.003577</td>\n",
              "      <td>0.000704</td>\n",
              "      <td>0.002059</td>\n",
              "      <td>0.000813</td>\n",
              "      <td>0.000325</td>\n",
              "      <td>0.005311</td>\n",
              "      <td>0.004064</td>\n",
              "      <td>0.001138</td>\n",
              "      <td>0.001734</td>\n",
              "      <td>0.009809</td>\n",
              "      <td>0.003685</td>\n",
              "      <td>0.000108</td>\n",
              "      <td>0.005473</td>\n",
              "      <td>0.001301</td>\n",
              "      <td>0.001463</td>\n",
              "      <td>0.001897</td>\n",
              "      <td>0.001301</td>\n",
              "      <td>0.0</td>\n",
              "      <td>0.0</td>\n",
              "    </tr>\n",
              "    <tr>\n",
              "      <th>std</th>\n",
              "      <td>4189.457729</td>\n",
              "      <td>10.351737</td>\n",
              "      <td>0.243607</td>\n",
              "      <td>4.565504</td>\n",
              "      <td>5.394192</td>\n",
              "      <td>0.925029</td>\n",
              "      <td>1.153127</td>\n",
              "      <td>6.833141</td>\n",
              "      <td>0.497119</td>\n",
              "      <td>0.156606</td>\n",
              "      <td>0.234743</td>\n",
              "      <td>0.299863</td>\n",
              "      <td>0.185715</td>\n",
              "      <td>0.163179</td>\n",
              "      <td>0.126819</td>\n",
              "      <td>0.156349</td>\n",
              "      <td>0.281162</td>\n",
              "      <td>0.172484</td>\n",
              "      <td>0.391742</td>\n",
              "      <td>0.300672</td>\n",
              "      <td>0.142408</td>\n",
              "      <td>0.256451</td>\n",
              "      <td>0.181788</td>\n",
              "      <td>0.225845</td>\n",
              "      <td>0.200399</td>\n",
              "      <td>0.109602</td>\n",
              "      <td>0.189914</td>\n",
              "      <td>0.111612</td>\n",
              "      <td>0.117644</td>\n",
              "      <td>0.130661</td>\n",
              "      <td>0.113541</td>\n",
              "      <td>0.260145</td>\n",
              "      <td>0.120878</td>\n",
              "      <td>0.181759</td>\n",
              "      <td>0.173169</td>\n",
              "      <td>0.118459</td>\n",
              "      <td>0.163240</td>\n",
              "      <td>0.239476</td>\n",
              "      <td>0.146541</td>\n",
              "      <td>0.144723</td>\n",
              "      <td>...</td>\n",
              "      <td>0.321942</td>\n",
              "      <td>0.090145</td>\n",
              "      <td>0.059804</td>\n",
              "      <td>0.101182</td>\n",
              "      <td>0.145720</td>\n",
              "      <td>0.203337</td>\n",
              "      <td>0.225437</td>\n",
              "      <td>0.034525</td>\n",
              "      <td>0.253869</td>\n",
              "      <td>0.313095</td>\n",
              "      <td>0.101187</td>\n",
              "      <td>0.425291</td>\n",
              "      <td>0.180429</td>\n",
              "      <td>0.124919</td>\n",
              "      <td>0.132495</td>\n",
              "      <td>0.119819</td>\n",
              "      <td>0.094260</td>\n",
              "      <td>0.201118</td>\n",
              "      <td>0.0</td>\n",
              "      <td>0.094556</td>\n",
              "      <td>0.007362</td>\n",
              "      <td>0.280882</td>\n",
              "      <td>0.052568</td>\n",
              "      <td>0.189972</td>\n",
              "      <td>0.062025</td>\n",
              "      <td>0.044169</td>\n",
              "      <td>0.540646</td>\n",
              "      <td>0.183112</td>\n",
              "      <td>0.058421</td>\n",
              "      <td>0.130438</td>\n",
              "      <td>0.848266</td>\n",
              "      <td>0.255203</td>\n",
              "      <td>0.014723</td>\n",
              "      <td>0.678893</td>\n",
              "      <td>0.176676</td>\n",
              "      <td>0.093977</td>\n",
              "      <td>0.257653</td>\n",
              "      <td>0.069047</td>\n",
              "      <td>0.0</td>\n",
              "      <td>0.0</td>\n",
              "    </tr>\n",
              "    <tr>\n",
              "      <th>min</th>\n",
              "      <td>-4.620000</td>\n",
              "      <td>0.000000</td>\n",
              "      <td>0.000000</td>\n",
              "      <td>0.000000</td>\n",
              "      <td>0.000000</td>\n",
              "      <td>0.000000</td>\n",
              "      <td>0.000000</td>\n",
              "      <td>0.000000</td>\n",
              "      <td>0.000000</td>\n",
              "      <td>0.000000</td>\n",
              "      <td>0.000000</td>\n",
              "      <td>0.000000</td>\n",
              "      <td>0.000000</td>\n",
              "      <td>0.000000</td>\n",
              "      <td>0.000000</td>\n",
              "      <td>0.000000</td>\n",
              "      <td>0.000000</td>\n",
              "      <td>0.000000</td>\n",
              "      <td>0.000000</td>\n",
              "      <td>0.000000</td>\n",
              "      <td>0.000000</td>\n",
              "      <td>0.000000</td>\n",
              "      <td>0.000000</td>\n",
              "      <td>0.000000</td>\n",
              "      <td>0.000000</td>\n",
              "      <td>0.000000</td>\n",
              "      <td>0.000000</td>\n",
              "      <td>0.000000</td>\n",
              "      <td>0.000000</td>\n",
              "      <td>0.000000</td>\n",
              "      <td>0.000000</td>\n",
              "      <td>0.000000</td>\n",
              "      <td>0.000000</td>\n",
              "      <td>0.000000</td>\n",
              "      <td>0.000000</td>\n",
              "      <td>0.000000</td>\n",
              "      <td>0.000000</td>\n",
              "      <td>0.000000</td>\n",
              "      <td>0.000000</td>\n",
              "      <td>0.000000</td>\n",
              "      <td>...</td>\n",
              "      <td>0.000000</td>\n",
              "      <td>0.000000</td>\n",
              "      <td>0.000000</td>\n",
              "      <td>0.000000</td>\n",
              "      <td>0.000000</td>\n",
              "      <td>0.000000</td>\n",
              "      <td>0.000000</td>\n",
              "      <td>0.000000</td>\n",
              "      <td>0.000000</td>\n",
              "      <td>0.000000</td>\n",
              "      <td>0.000000</td>\n",
              "      <td>0.000000</td>\n",
              "      <td>0.000000</td>\n",
              "      <td>0.000000</td>\n",
              "      <td>0.000000</td>\n",
              "      <td>0.000000</td>\n",
              "      <td>0.000000</td>\n",
              "      <td>0.000000</td>\n",
              "      <td>0.0</td>\n",
              "      <td>0.000000</td>\n",
              "      <td>0.000000</td>\n",
              "      <td>0.000000</td>\n",
              "      <td>0.000000</td>\n",
              "      <td>0.000000</td>\n",
              "      <td>0.000000</td>\n",
              "      <td>0.000000</td>\n",
              "      <td>0.000000</td>\n",
              "      <td>0.000000</td>\n",
              "      <td>0.000000</td>\n",
              "      <td>0.000000</td>\n",
              "      <td>0.000000</td>\n",
              "      <td>0.000000</td>\n",
              "      <td>0.000000</td>\n",
              "      <td>0.000000</td>\n",
              "      <td>0.000000</td>\n",
              "      <td>0.000000</td>\n",
              "      <td>0.000000</td>\n",
              "      <td>0.000000</td>\n",
              "      <td>0.0</td>\n",
              "      <td>0.0</td>\n",
              "    </tr>\n",
              "    <tr>\n",
              "      <th>25%</th>\n",
              "      <td>43.930000</td>\n",
              "      <td>0.000000</td>\n",
              "      <td>0.000000</td>\n",
              "      <td>0.000000</td>\n",
              "      <td>0.000000</td>\n",
              "      <td>0.000000</td>\n",
              "      <td>0.000000</td>\n",
              "      <td>0.000000</td>\n",
              "      <td>0.000000</td>\n",
              "      <td>0.000000</td>\n",
              "      <td>0.000000</td>\n",
              "      <td>0.000000</td>\n",
              "      <td>0.000000</td>\n",
              "      <td>0.000000</td>\n",
              "      <td>0.000000</td>\n",
              "      <td>0.000000</td>\n",
              "      <td>0.000000</td>\n",
              "      <td>0.000000</td>\n",
              "      <td>0.000000</td>\n",
              "      <td>0.000000</td>\n",
              "      <td>0.000000</td>\n",
              "      <td>0.000000</td>\n",
              "      <td>0.000000</td>\n",
              "      <td>0.000000</td>\n",
              "      <td>0.000000</td>\n",
              "      <td>0.000000</td>\n",
              "      <td>0.000000</td>\n",
              "      <td>0.000000</td>\n",
              "      <td>0.000000</td>\n",
              "      <td>0.000000</td>\n",
              "      <td>0.000000</td>\n",
              "      <td>0.000000</td>\n",
              "      <td>0.000000</td>\n",
              "      <td>0.000000</td>\n",
              "      <td>0.000000</td>\n",
              "      <td>0.000000</td>\n",
              "      <td>0.000000</td>\n",
              "      <td>0.000000</td>\n",
              "      <td>0.000000</td>\n",
              "      <td>0.000000</td>\n",
              "      <td>...</td>\n",
              "      <td>0.000000</td>\n",
              "      <td>0.000000</td>\n",
              "      <td>0.000000</td>\n",
              "      <td>0.000000</td>\n",
              "      <td>0.000000</td>\n",
              "      <td>0.000000</td>\n",
              "      <td>0.000000</td>\n",
              "      <td>0.000000</td>\n",
              "      <td>0.000000</td>\n",
              "      <td>0.000000</td>\n",
              "      <td>0.000000</td>\n",
              "      <td>0.000000</td>\n",
              "      <td>0.000000</td>\n",
              "      <td>0.000000</td>\n",
              "      <td>0.000000</td>\n",
              "      <td>0.000000</td>\n",
              "      <td>0.000000</td>\n",
              "      <td>0.000000</td>\n",
              "      <td>0.0</td>\n",
              "      <td>0.000000</td>\n",
              "      <td>0.000000</td>\n",
              "      <td>0.000000</td>\n",
              "      <td>0.000000</td>\n",
              "      <td>0.000000</td>\n",
              "      <td>0.000000</td>\n",
              "      <td>0.000000</td>\n",
              "      <td>0.000000</td>\n",
              "      <td>0.000000</td>\n",
              "      <td>0.000000</td>\n",
              "      <td>0.000000</td>\n",
              "      <td>0.000000</td>\n",
              "      <td>0.000000</td>\n",
              "      <td>0.000000</td>\n",
              "      <td>0.000000</td>\n",
              "      <td>0.000000</td>\n",
              "      <td>0.000000</td>\n",
              "      <td>0.000000</td>\n",
              "      <td>0.000000</td>\n",
              "      <td>0.0</td>\n",
              "      <td>0.0</td>\n",
              "    </tr>\n",
              "    <tr>\n",
              "      <th>50%</th>\n",
              "      <td>173.430000</td>\n",
              "      <td>1.000000</td>\n",
              "      <td>0.000000</td>\n",
              "      <td>1.000000</td>\n",
              "      <td>1.000000</td>\n",
              "      <td>0.000000</td>\n",
              "      <td>0.000000</td>\n",
              "      <td>1.000000</td>\n",
              "      <td>0.000000</td>\n",
              "      <td>0.000000</td>\n",
              "      <td>0.000000</td>\n",
              "      <td>0.000000</td>\n",
              "      <td>0.000000</td>\n",
              "      <td>0.000000</td>\n",
              "      <td>0.000000</td>\n",
              "      <td>0.000000</td>\n",
              "      <td>0.000000</td>\n",
              "      <td>0.000000</td>\n",
              "      <td>0.000000</td>\n",
              "      <td>0.000000</td>\n",
              "      <td>0.000000</td>\n",
              "      <td>0.000000</td>\n",
              "      <td>0.000000</td>\n",
              "      <td>0.000000</td>\n",
              "      <td>0.000000</td>\n",
              "      <td>0.000000</td>\n",
              "      <td>0.000000</td>\n",
              "      <td>0.000000</td>\n",
              "      <td>0.000000</td>\n",
              "      <td>0.000000</td>\n",
              "      <td>0.000000</td>\n",
              "      <td>0.000000</td>\n",
              "      <td>0.000000</td>\n",
              "      <td>0.000000</td>\n",
              "      <td>0.000000</td>\n",
              "      <td>0.000000</td>\n",
              "      <td>0.000000</td>\n",
              "      <td>0.000000</td>\n",
              "      <td>0.000000</td>\n",
              "      <td>0.000000</td>\n",
              "      <td>...</td>\n",
              "      <td>0.000000</td>\n",
              "      <td>0.000000</td>\n",
              "      <td>0.000000</td>\n",
              "      <td>0.000000</td>\n",
              "      <td>0.000000</td>\n",
              "      <td>0.000000</td>\n",
              "      <td>0.000000</td>\n",
              "      <td>0.000000</td>\n",
              "      <td>0.000000</td>\n",
              "      <td>0.000000</td>\n",
              "      <td>0.000000</td>\n",
              "      <td>0.000000</td>\n",
              "      <td>0.000000</td>\n",
              "      <td>0.000000</td>\n",
              "      <td>0.000000</td>\n",
              "      <td>0.000000</td>\n",
              "      <td>0.000000</td>\n",
              "      <td>0.000000</td>\n",
              "      <td>0.0</td>\n",
              "      <td>0.000000</td>\n",
              "      <td>0.000000</td>\n",
              "      <td>0.000000</td>\n",
              "      <td>0.000000</td>\n",
              "      <td>0.000000</td>\n",
              "      <td>0.000000</td>\n",
              "      <td>0.000000</td>\n",
              "      <td>0.000000</td>\n",
              "      <td>0.000000</td>\n",
              "      <td>0.000000</td>\n",
              "      <td>0.000000</td>\n",
              "      <td>0.000000</td>\n",
              "      <td>0.000000</td>\n",
              "      <td>0.000000</td>\n",
              "      <td>0.000000</td>\n",
              "      <td>0.000000</td>\n",
              "      <td>0.000000</td>\n",
              "      <td>0.000000</td>\n",
              "      <td>0.000000</td>\n",
              "      <td>0.0</td>\n",
              "      <td>0.0</td>\n",
              "    </tr>\n",
              "    <tr>\n",
              "      <th>75%</th>\n",
              "      <td>509.780000</td>\n",
              "      <td>5.000000</td>\n",
              "      <td>0.000000</td>\n",
              "      <td>2.000000</td>\n",
              "      <td>3.000000</td>\n",
              "      <td>0.000000</td>\n",
              "      <td>0.000000</td>\n",
              "      <td>3.000000</td>\n",
              "      <td>0.000000</td>\n",
              "      <td>0.000000</td>\n",
              "      <td>0.000000</td>\n",
              "      <td>0.000000</td>\n",
              "      <td>0.000000</td>\n",
              "      <td>0.000000</td>\n",
              "      <td>0.000000</td>\n",
              "      <td>0.000000</td>\n",
              "      <td>0.000000</td>\n",
              "      <td>0.000000</td>\n",
              "      <td>0.000000</td>\n",
              "      <td>0.000000</td>\n",
              "      <td>0.000000</td>\n",
              "      <td>0.000000</td>\n",
              "      <td>0.000000</td>\n",
              "      <td>0.000000</td>\n",
              "      <td>0.000000</td>\n",
              "      <td>0.000000</td>\n",
              "      <td>0.000000</td>\n",
              "      <td>0.000000</td>\n",
              "      <td>0.000000</td>\n",
              "      <td>0.000000</td>\n",
              "      <td>0.000000</td>\n",
              "      <td>0.000000</td>\n",
              "      <td>0.000000</td>\n",
              "      <td>0.000000</td>\n",
              "      <td>0.000000</td>\n",
              "      <td>0.000000</td>\n",
              "      <td>0.000000</td>\n",
              "      <td>0.000000</td>\n",
              "      <td>0.000000</td>\n",
              "      <td>0.000000</td>\n",
              "      <td>...</td>\n",
              "      <td>0.000000</td>\n",
              "      <td>0.000000</td>\n",
              "      <td>0.000000</td>\n",
              "      <td>0.000000</td>\n",
              "      <td>0.000000</td>\n",
              "      <td>0.000000</td>\n",
              "      <td>0.000000</td>\n",
              "      <td>0.000000</td>\n",
              "      <td>0.000000</td>\n",
              "      <td>0.000000</td>\n",
              "      <td>0.000000</td>\n",
              "      <td>0.000000</td>\n",
              "      <td>0.000000</td>\n",
              "      <td>0.000000</td>\n",
              "      <td>0.000000</td>\n",
              "      <td>0.000000</td>\n",
              "      <td>0.000000</td>\n",
              "      <td>0.000000</td>\n",
              "      <td>0.0</td>\n",
              "      <td>0.000000</td>\n",
              "      <td>0.000000</td>\n",
              "      <td>0.000000</td>\n",
              "      <td>0.000000</td>\n",
              "      <td>0.000000</td>\n",
              "      <td>0.000000</td>\n",
              "      <td>0.000000</td>\n",
              "      <td>0.000000</td>\n",
              "      <td>0.000000</td>\n",
              "      <td>0.000000</td>\n",
              "      <td>0.000000</td>\n",
              "      <td>0.000000</td>\n",
              "      <td>0.000000</td>\n",
              "      <td>0.000000</td>\n",
              "      <td>0.000000</td>\n",
              "      <td>0.000000</td>\n",
              "      <td>0.000000</td>\n",
              "      <td>0.000000</td>\n",
              "      <td>0.000000</td>\n",
              "      <td>0.0</td>\n",
              "      <td>0.0</td>\n",
              "    </tr>\n",
              "    <tr>\n",
              "      <th>max</th>\n",
              "      <td>215211.810000</td>\n",
              "      <td>488.000000</td>\n",
              "      <td>13.000000</td>\n",
              "      <td>144.000000</td>\n",
              "      <td>164.000000</td>\n",
              "      <td>35.000000</td>\n",
              "      <td>39.000000</td>\n",
              "      <td>253.000000</td>\n",
              "      <td>16.000000</td>\n",
              "      <td>7.000000</td>\n",
              "      <td>19.000000</td>\n",
              "      <td>25.000000</td>\n",
              "      <td>8.000000</td>\n",
              "      <td>6.000000</td>\n",
              "      <td>4.000000</td>\n",
              "      <td>3.000000</td>\n",
              "      <td>14.000000</td>\n",
              "      <td>3.000000</td>\n",
              "      <td>12.000000</td>\n",
              "      <td>4.000000</td>\n",
              "      <td>6.000000</td>\n",
              "      <td>8.000000</td>\n",
              "      <td>6.000000</td>\n",
              "      <td>9.000000</td>\n",
              "      <td>8.000000</td>\n",
              "      <td>2.000000</td>\n",
              "      <td>7.000000</td>\n",
              "      <td>5.000000</td>\n",
              "      <td>3.000000</td>\n",
              "      <td>3.000000</td>\n",
              "      <td>4.000000</td>\n",
              "      <td>4.000000</td>\n",
              "      <td>4.000000</td>\n",
              "      <td>12.000000</td>\n",
              "      <td>10.000000</td>\n",
              "      <td>2.000000</td>\n",
              "      <td>4.000000</td>\n",
              "      <td>5.000000</td>\n",
              "      <td>6.000000</td>\n",
              "      <td>7.000000</td>\n",
              "      <td>...</td>\n",
              "      <td>26.000000</td>\n",
              "      <td>7.000000</td>\n",
              "      <td>8.000000</td>\n",
              "      <td>9.000000</td>\n",
              "      <td>11.000000</td>\n",
              "      <td>26.000000</td>\n",
              "      <td>24.000000</td>\n",
              "      <td>3.000000</td>\n",
              "      <td>18.000000</td>\n",
              "      <td>42.000000</td>\n",
              "      <td>8.000000</td>\n",
              "      <td>42.000000</td>\n",
              "      <td>13.000000</td>\n",
              "      <td>13.000000</td>\n",
              "      <td>16.000000</td>\n",
              "      <td>13.000000</td>\n",
              "      <td>9.000000</td>\n",
              "      <td>13.000000</td>\n",
              "      <td>0.0</td>\n",
              "      <td>12.000000</td>\n",
              "      <td>1.000000</td>\n",
              "      <td>35.000000</td>\n",
              "      <td>6.000000</td>\n",
              "      <td>25.000000</td>\n",
              "      <td>6.000000</td>\n",
              "      <td>6.000000</td>\n",
              "      <td>69.000000</td>\n",
              "      <td>18.000000</td>\n",
              "      <td>4.000000</td>\n",
              "      <td>15.000000</td>\n",
              "      <td>107.000000</td>\n",
              "      <td>28.000000</td>\n",
              "      <td>2.000000</td>\n",
              "      <td>92.000000</td>\n",
              "      <td>24.000000</td>\n",
              "      <td>10.000000</td>\n",
              "      <td>35.000000</td>\n",
              "      <td>5.000000</td>\n",
              "      <td>0.0</td>\n",
              "      <td>0.0</td>\n",
              "    </tr>\n",
              "  </tbody>\n",
              "</table>\n",
              "<p>8 rows × 3336 columns</p>\n",
              "</div>"
            ],
            "text/plain": [
              "       3.487200000000000273e+02  ...  0.000000000000000000e+00.3284\n",
              "count              18453.000000  ...                        18453.0\n",
              "mean                 927.337872  ...                            0.0\n",
              "std                 4189.457729  ...                            0.0\n",
              "min                   -4.620000  ...                            0.0\n",
              "25%                   43.930000  ...                            0.0\n",
              "50%                  173.430000  ...                            0.0\n",
              "75%                  509.780000  ...                            0.0\n",
              "max               215211.810000  ...                            0.0\n",
              "\n",
              "[8 rows x 3336 columns]"
            ]
          },
          "metadata": {
            "tags": []
          },
          "execution_count": 13
        }
      ]
    },
    {
      "cell_type": "code",
      "metadata": {
        "colab": {
          "base_uri": "https://localhost:8080/",
          "height": 297
        },
        "id": "KY0J4zJvnRVV",
        "outputId": "45dfb5d1-b1cb-44a6-bbff-611b54b933be"
      },
      "source": [
        "pd_y_paid.describe()"
      ],
      "execution_count": 14,
      "outputs": [
        {
          "output_type": "execute_result",
          "data": {
            "text/html": [
              "<div>\n",
              "<style scoped>\n",
              "    .dataframe tbody tr th:only-of-type {\n",
              "        vertical-align: middle;\n",
              "    }\n",
              "\n",
              "    .dataframe tbody tr th {\n",
              "        vertical-align: top;\n",
              "    }\n",
              "\n",
              "    .dataframe thead th {\n",
              "        text-align: right;\n",
              "    }\n",
              "</style>\n",
              "<table border=\"1\" class=\"dataframe\">\n",
              "  <thead>\n",
              "    <tr style=\"text-align: right;\">\n",
              "      <th></th>\n",
              "      <th>5.061299999999999955e+02</th>\n",
              "    </tr>\n",
              "  </thead>\n",
              "  <tbody>\n",
              "    <tr>\n",
              "      <th>count</th>\n",
              "      <td>18453.000000</td>\n",
              "    </tr>\n",
              "    <tr>\n",
              "      <th>mean</th>\n",
              "      <td>1525.336082</td>\n",
              "    </tr>\n",
              "    <tr>\n",
              "      <th>std</th>\n",
              "      <td>5090.648841</td>\n",
              "    </tr>\n",
              "    <tr>\n",
              "      <th>min</th>\n",
              "      <td>0.000000</td>\n",
              "    </tr>\n",
              "    <tr>\n",
              "      <th>25%</th>\n",
              "      <td>93.660000</td>\n",
              "    </tr>\n",
              "    <tr>\n",
              "      <th>50%</th>\n",
              "      <td>303.660000</td>\n",
              "    </tr>\n",
              "    <tr>\n",
              "      <th>75%</th>\n",
              "      <td>918.120000</td>\n",
              "    </tr>\n",
              "    <tr>\n",
              "      <th>max</th>\n",
              "      <td>97888.740000</td>\n",
              "    </tr>\n",
              "  </tbody>\n",
              "</table>\n",
              "</div>"
            ],
            "text/plain": [
              "       5.061299999999999955e+02\n",
              "count              18453.000000\n",
              "mean                1525.336082\n",
              "std                 5090.648841\n",
              "min                    0.000000\n",
              "25%                   93.660000\n",
              "50%                  303.660000\n",
              "75%                  918.120000\n",
              "max                97888.740000"
            ]
          },
          "metadata": {
            "tags": []
          },
          "execution_count": 14
        }
      ]
    },
    {
      "cell_type": "code",
      "metadata": {
        "colab": {
          "base_uri": "https://localhost:8080/",
          "height": 315
        },
        "id": "9RA08qE4bRZZ",
        "outputId": "5d820e42-9d4d-4816-c296-a347555ecd55"
      },
      "source": [
        "pd_y_paid.hist(bins=100, log=True)"
      ],
      "execution_count": 15,
      "outputs": [
        {
          "output_type": "execute_result",
          "data": {
            "text/plain": [
              "array([[<matplotlib.axes._subplots.AxesSubplot object at 0x7f5702f9f0d0>]],\n",
              "      dtype=object)"
            ]
          },
          "metadata": {
            "tags": []
          },
          "execution_count": 15
        },
        {
          "output_type": "display_data",
          "data": {
            "image/png": "[encoded data removed]",
            "text/plain": [
              "<Figure size 432x288 with 1 Axes>"
            ]
          },
          "metadata": {
            "tags": [],
            "needs_background": "light"
          }
        }
      ]
    },
    {
      "cell_type": "markdown",
      "metadata": {
        "id": "yBRh2V5KiHqh"
      },
      "source": [
        "### 3.3 X variable normalization"
      ]
    },
    {
      "cell_type": "code",
      "metadata": {
        "id": "kOLGZrWoxnC-"
      },
      "source": [
        "# Input data normalization\n",
        "# https://betashort-lab.com/%E3%83%87%E3%83%BC%E3%82%BF%E3%82%B5%E3%82%A4%E3%82%A8%E3%83%B3%E3%82%B9/%E6%A9%9F%E6%A2%B0%E5%AD%A6%E7%BF%92/%E3%83%87%E3%83%BC%E3%82%BF%E3%81%AE%E6%AD%A3%E8%A6%8F%E5%8C%96%E3%83%87%E3%83%BC%E3%82%BF%E3%81%AE%E5%89%8D%E5%87%A6%E7%90%86/#toc4\n",
        "\n",
        "from sklearn.preprocessing import MinMaxScaler\n",
        "\n",
        "if 1:\n",
        "    scaler_mm = MinMaxScaler()\n",
        "    scaler_mm.fit(pd_x)\n",
        "    pd_x = pd.DataFrame(scaler_mm.transform(pd_x))"
      ],
      "execution_count": 16,
      "outputs": []
    },
    {
      "cell_type": "code",
      "metadata": {
        "id": "TOhYhvn1nOf5"
      },
      "source": [
        "# https://www.coursera.org/learn/cs598-deep-learning-for-healthcare/programming/eJFr3/homework-3-seq2seq/lab\n",
        "from torch.utils.data import Dataset\n",
        "\n",
        "class CustomDataset(Dataset):\n",
        "    def __init__(self, x, y):\n",
        "        # convert to torch.tensor\n",
        "        self.x = torch.tensor(x.values.astype(np.float32))\n",
        "        self.y = torch.tensor(y.values.astype(np.float32))\n",
        "    \n",
        "    def __len__(self):\n",
        "        return len(self.y)\n",
        "    \n",
        "    def __getitem__(self, index):\n",
        "        #return self.x.loc[index][:], self.y.loc[index]\n",
        "        return self.x[index][:], self.y[index]"
      ],
      "execution_count": 17,
      "outputs": []
    },
    {
      "cell_type": "code",
      "metadata": {
        "id": "s28Z3vjUny3W",
        "colab": {
          "base_uri": "https://localhost:8080/"
        },
        "outputId": "ffd6a8d6-c37f-4992-8e39-5c94d53ee15a"
      },
      "source": [
        "dataset = CustomDataset(pd_x, pd_y_paid)\n",
        "print(len(dataset))\n",
        "#print(dataset[0][0])\n",
        "#print(dataset[0][0].shape)\n",
        "#print(dataset[0][1].shape)"
      ],
      "execution_count": 18,
      "outputs": [
        {
          "output_type": "stream",
          "text": [
            "18453\n"
          ],
          "name": "stdout"
        }
      ]
    },
    {
      "cell_type": "markdown",
      "metadata": {
        "id": "apglZFjRkFfH"
      },
      "source": [
        "### 3.4 Data split"
      ]
    },
    {
      "cell_type": "code",
      "metadata": {
        "id": "s7ewGGH8mH7g",
        "colab": {
          "base_uri": "https://localhost:8080/"
        },
        "outputId": "a50cb736-5633-48f7-f192-f8fe862a0b54"
      },
      "source": [
        "# https://stackoverflow.com/questions/61811946/train-valid-test-split-for-custom-dataset-using-pytorch-and-torchvision\n",
        "# https://www.coursera.org/learn/cs598-deep-learning-for-healthcare/programming/eJFr3/homework-3-seq2seq/lab\n",
        "\n",
        "from torch.utils.data.dataset import random_split\n",
        "\n",
        "train_len = int(len(dataset)*0.7)\n",
        "val_len = int(len(dataset)*0.2)\n",
        "lengths = [train_len, val_len, len(dataset) - train_len - val_len]\n",
        "train_dataset, val_dataset, test_dataset = random_split(dataset, lengths)\n",
        "\n",
        "print(\"train data length: {}\".format(len(train_dataset)))\n",
        "print(\"val data length: {}\".format(len(val_dataset)))\n",
        "print(\"test data length: {}\".format(len(test_dataset)))"
      ],
      "execution_count": 19,
      "outputs": [
        {
          "output_type": "stream",
          "text": [
            "train data length: 12917\n",
            "val data length: 3690\n",
            "test data length: 1846\n"
          ],
          "name": "stdout"
        }
      ]
    },
    {
      "cell_type": "markdown",
      "metadata": {
        "id": "ZAf9Ps830gPc"
      },
      "source": [
        "### 3.5 Dataloader"
      ]
    },
    {
      "cell_type": "code",
      "metadata": {
        "id": "7OMMgsNo6SNb"
      },
      "source": [
        "# https://www.coursera.org/learn/cs598-deep-learning-for-healthcare/programming/eJFr3/homework-3-seq2seq/lab\n",
        "from torch.utils.data import DataLoader\n",
        "\n",
        "train_loader = DataLoader(train_dataset, batch_size=32, shuffle=True)\n",
        "val_loader = DataLoader(val_dataset, batch_size=32, shuffle=False)\n",
        "test_loader = DataLoader(test_dataset, batch_size=32, shuffle=False)"
      ],
      "execution_count": 20,
      "outputs": []
    },
    {
      "cell_type": "code",
      "metadata": {
        "id": "ik5rGVmiOSIv",
        "colab": {
          "base_uri": "https://localhost:8080/"
        },
        "outputId": "897a5ef7-ce1f-44c4-f3a2-f9064e3af1a5"
      },
      "source": [
        "# Test\n",
        "# https://www.coursera.org/learn/cs598-deep-learning-for-healthcare/programming/UEdCb/homework-2-neural-networks/lab\n",
        "\n",
        "train_iter = iter(train_loader)\n",
        "x, y = next(train_iter)\n",
        "\n",
        "print('Shape of a batch x:', x.shape)\n",
        "print('Shape of a batch y:', y.shape)"
      ],
      "execution_count": 21,
      "outputs": [
        {
          "output_type": "stream",
          "text": [
            "Shape of a batch x: torch.Size([32, 3336])\n",
            "Shape of a batch y: torch.Size([32, 1])\n"
          ],
          "name": "stdout"
        }
      ]
    },
    {
      "cell_type": "markdown",
      "metadata": {
        "id": "i5gOXYHqyqPI"
      },
      "source": [
        "## **4. Model building**"
      ]
    },
    {
      "cell_type": "markdown",
      "metadata": {
        "id": "RnqKGxz_9ku-"
      },
      "source": [
        "### **4.1 Random Forest and Gradient Boosting**"
      ]
    },
    {
      "cell_type": "code",
      "metadata": {
        "id": "yocN3DEg93O7",
        "colab": {
          "base_uri": "https://localhost:8080/"
        },
        "outputId": "b6076a8b-ec40-4198-f5d7-093c966e55dd"
      },
      "source": [
        "## Random forest - train on \"train_dataset\", and test on \"test_dataset\"\n",
        "from sklearn.ensemble import RandomForestRegressor, GradientBoostingRegressor\n",
        "import numpy\n",
        "train_x = train_dataset.dataset.x\n",
        "train_y = train_dataset.dataset.y.ravel().cpu().detach().numpy()\n",
        "test_x  = test_dataset.dataset.x\n",
        "test_y  = test_dataset.dataset.y.ravel().cpu().detach().numpy()\n",
        "# filter out rows with Y>100k\n",
        "tf = train_y <= 100e3\n",
        "train_x = train_x[tf, :]\n",
        "train_y = train_y[tf]\n",
        "tf = test_y <= 100e3\n",
        "test_x = test_x[tf, :]\n",
        "test_y = test_y[tf]\n",
        "\n",
        "# fit random forest\n",
        "rf = RandomForestRegressor(max_depth=20, random_state=0)\n",
        "rf.fit(train_x, train_y)\n",
        "f = rf.predict(test_x)\n",
        "f[f < 0] = 0\n",
        "abserr = numpy.abs(f - test_y)\n",
        "rf_mae = numpy.mean(abserr)\n",
        "rf_medae = numpy.median(abserr)\n",
        "print(f\"Mean abs err (Random Forest): {rf_mae}\")\n",
        "print(f\"Median abs err (Random Forest): {rf_medae}\")\n",
        "\n",
        "## Gradient Boost\n",
        "gb = GradientBoostingRegressor(learning_rate=0.1, n_estimators=100, subsample=0.5)\n",
        "gb.fit(train_x, train_y)\n",
        "f = gb.predict(test_x)\n",
        "f[f < 0] = 0\n",
        "abserr = numpy.abs(f - test_y)\n",
        "gb_mae = numpy.mean(abserr)\n",
        "gb_medae = numpy.median(abserr)\n",
        "print(f\"Mean abs err (Gradient Boost): {gb_mae}\")\n",
        "print(f\"Median abs err (Gradient Boost): {gb_medae}\")\n"
      ],
      "execution_count": 41,
      "outputs": [
        {
          "output_type": "stream",
          "text": [
            "Mean abs err (Random Forest): 1260.6284445604915\n",
            "Median abs err (Random Forest): 671.5205644080352\n",
            "Mean abs err (Gradient Boost): 1539.7635191485435\n",
            "Median abs err (Gradient Boost): 753.3828395512699\n"
          ],
          "name": "stdout"
        }
      ]
    },
    {
      "cell_type": "code",
      "metadata": {
        "colab": {
          "base_uri": "https://localhost:8080/"
        },
        "id": "jf7OHO8Z1tHr",
        "outputId": "c442dd3a-a83e-4945-9e91-5d06221f8f81"
      },
      "source": [
        "## errors using median training values as forecast\n",
        "abserr = numpy.abs(test_y - numpy.median(train_y))\n",
        "med_mae = numpy.mean(abserr)\n",
        "med_medae = numpy.median(abserr)\n",
        "print(f\"Mean abs err (median training): {med_mae}\")\n",
        "print(f\"Median abs err (median training): {med_medae}\")\n",
        "\n",
        "## errors using mean training values as forecast\n",
        "abserr = numpy.abs(test_y - numpy.mean(train_y))\n",
        "med_mae = numpy.mean(abserr)\n",
        "med_medae = numpy.median(abserr)\n",
        "print(f\"Mean abs err (mean training): {med_mae}\")\n",
        "print(f\"Median abs err (mean training): {med_medae}\")\n"
      ],
      "execution_count": 47,
      "outputs": [
        {
          "output_type": "stream",
          "text": [
            "Mean abs err (median training): 1415.8638916015625\n",
            "Median abs err (median training): 264.05999755859375\n",
            "Mean abs err (mean training): 1964.03857421875\n",
            "Median abs err (mean training): 1322.1961669921875\n"
          ],
          "name": "stdout"
        }
      ]
    },
    {
      "cell_type": "markdown",
      "metadata": {
        "id": "vJsYbtTZ8QAt"
      },
      "source": [
        "### **4.2 Base model(Drewe-Boss’s paper)**"
      ]
    },
    {
      "cell_type": "code",
      "metadata": {
        "id": "pPcItHq0ys_G",
        "colab": {
          "base_uri": "https://localhost:8080/"
        },
        "outputId": "55f9e22c-90e7-4750-80ed-d058300bdf7a"
      },
      "source": [
        "# The purpose of this model is to reproduce the prior model proposed by Drewe-Boss et al.  Deep learning for prediction of population health costs\n",
        "\n",
        "# This code is inspired by \n",
        "#  (1) https://www.coursera.org/learn/cs598-deep-learning-for-healthcare/programming/UEdCb/homework-2-neural-networks/lab\n",
        "#  (2) https://www.coursera.org/learn/cs598-deep-learning-for-healthcare/programming/VNfPA/homework-4-mina/lab\n",
        "\n",
        "import torch\n",
        "import torch.nn as nn\n",
        "import torch.nn.functional as F\n",
        "\n",
        "class Basemodel(nn.Module):\n",
        "    def __init__(self, input_size=3336, output_size=1):\n",
        "        super(Basemodel, self).__init__()\n",
        "        self.input_size = input_size\n",
        "        self.hidden_size = 50\n",
        "        self.output_size = output_size\n",
        "\n",
        "        self.fc1 = torch.nn.Linear(in_features=self.input_size, out_features=self.hidden_size)\n",
        "        self.fc2 = torch.nn.Linear(in_features=self.hidden_size, out_features=self.hidden_size)\n",
        "        self.fc3 = torch.nn.Linear(in_features=self.hidden_size, out_features=self.hidden_size)\n",
        "        self.fc4 = torch.nn.Linear(in_features=self.hidden_size+self.input_size, out_features=self.output_size)\n",
        "        self.do = nn.Dropout(0.5)\n",
        "\n",
        "    def forward(self, x):\n",
        "        x0 = x\n",
        "        '''\n",
        "        x = self.do(F.relu(self.fc1(x)))\n",
        "        x = self.do(F.relu(self.fc2(x)))\n",
        "        x = self.do(F.relu(self.fc3(x)))\n",
        "        '''\n",
        "        x = self.fc1(x)\n",
        "        x = self.fc2(x)\n",
        "        x = self.fc3(x)\n",
        "\n",
        "        #print(x.shape)\n",
        "        #print(x0.shape)\n",
        "        x = torch.cat((x, x0), dim=1)\n",
        "        #print(x.shape)\n",
        "        if 1:\n",
        "            x = self.do(F.relu(self.fc4(x)))\n",
        "        else:\n",
        "            #x = self.fc4(x)\n",
        "            x = F.relu(self.fc4(x))\n",
        "        \n",
        "        return x\n",
        "\n",
        "model = Basemodel() # Need to specify the input/output size(we have not decided input and output data)\n",
        "print(model)"
      ],
      "execution_count": 86,
      "outputs": [
        {
          "output_type": "stream",
          "text": [
            "Basemodel(\n",
            "  (fc1): Linear(in_features=3336, out_features=50, bias=True)\n",
            "  (fc2): Linear(in_features=50, out_features=50, bias=True)\n",
            "  (fc3): Linear(in_features=50, out_features=50, bias=True)\n",
            "  (fc4): Linear(in_features=3386, out_features=1, bias=True)\n",
            "  (do): Dropout(p=0.25, inplace=False)\n",
            ")\n"
          ],
          "name": "stdout"
        }
      ]
    },
    {
      "cell_type": "markdown",
      "metadata": {
        "id": "Pz72uokf-LVQ"
      },
      "source": [
        "### **4.3 Advanced model(Base model + alpha)**"
      ]
    },
    {
      "cell_type": "code",
      "metadata": {
        "id": "Pr8bwEYL_E15"
      },
      "source": [
        "# Idea"
      ],
      "execution_count": 42,
      "outputs": []
    },
    {
      "cell_type": "markdown",
      "metadata": {
        "id": "Upr9qp1AOpTV"
      },
      "source": [
        "## **5. Model training**"
      ]
    },
    {
      "cell_type": "markdown",
      "metadata": {
        "id": "DvR5NLUEO0KQ"
      },
      "source": [
        "### 5.1 Loss and optimizer"
      ]
    },
    {
      "cell_type": "code",
      "metadata": {
        "id": "E2N0LMlIOyB4"
      },
      "source": [
        "import torch.nn as nn\n",
        "\n",
        "# https://pytorch.org/docs/stable/generated/torch.nn.MSELoss.html\n",
        "#criterion = nn.MSELoss()\n",
        "criterion = nn.L1Loss()\n",
        "\n",
        "# Learning rate is not written in the prior papar. => Experimental value\n",
        "optimizer = torch.optim.Adam(model.parameters(), lr=5e-3)"
      ],
      "execution_count": 87,
      "outputs": []
    },
    {
      "cell_type": "markdown",
      "metadata": {
        "id": "5utr43ZHPLTd"
      },
      "source": [
        "### 5.2 Evaluation"
      ]
    },
    {
      "cell_type": "code",
      "metadata": {
        "id": "SmZLUpgwPRH1"
      },
      "source": [
        "# https://www.coursera.org/learn/cs598-deep-learning-for-healthcare/programming/UEdCb/homework-2-neural-networks/lab\n",
        "# https://scikit-learn.org/stable/modules/model_evaluation.html\n",
        "\n",
        "from sklearn.metrics import *\n",
        "\n",
        "def regression_metrics(Y_pred, Y_True):\n",
        "    # Evaluation of methods: \n",
        "    # 1. Pearson's correlation (r), \n",
        "    # 2. Spearman's correlation (\u001a),\n",
        "    # 3. Mean absolute prediction error (MAPE),\n",
        "    # 4. R squared (r2),\n",
        "    # 5. Cumming's Prediction Measure (CPM)\n",
        "    mae, r2 = mean_absolute_error(Y_True, Y_pred), \\\n",
        "                r2_score(Y_True, Y_pred)\n",
        "\n",
        "    return mae, r2\n",
        "\n",
        "def evaluate(model, val_loader):\n",
        "    model.eval()\n",
        "    all_y_true = torch.LongTensor()\n",
        "    all_y_pred = torch.LongTensor()\n",
        "\n",
        "    val_loss = 0\n",
        "    for x, y in val_loader:\n",
        "        y_pred = model(x)\n",
        "\n",
        "        # convert shape from [batch size, 1] to [batch size]\n",
        "        y_pred = y_pred.view(y_pred.shape[0])\n",
        "        y = y.view(y.shape[0])\n",
        "        \n",
        "        all_y_true = torch.cat((all_y_true, y.to('cpu').long()), dim=0)\n",
        "        all_y_pred = torch.cat((all_y_pred, y_pred.to('cpu').long()), dim=0)\n",
        "        \n",
        "        loss = criterion(y_pred, y)\n",
        "        val_loss += loss.item()\n",
        "    val_loss = val_loss / len(val_loader)\n",
        "    mae, r2 = regression_metrics(all_y_pred, all_y_true)\n",
        "    #print(f\"mape: {mape:.3f}, r2: {r2:.3f}\")\n",
        "    return val_loss, mae, r2"
      ],
      "execution_count": 88,
      "outputs": []
    },
    {
      "cell_type": "code",
      "metadata": {
        "id": "e2ed2StcLIMN",
        "colab": {
          "base_uri": "https://localhost:8080/"
        },
        "outputId": "6080ba59-47cf-466f-98c8-30a511f22dfb"
      },
      "source": [
        "# test without training\n",
        "evaluate(model, train_loader)"
      ],
      "execution_count": 89,
      "outputs": [
        {
          "output_type": "execute_result",
          "data": {
            "text/plain": [
              "(1445.2464675147935, 1445.7004722458776, -0.09646133388586509)"
            ]
          },
          "metadata": {
            "tags": []
          },
          "execution_count": 89
        }
      ]
    },
    {
      "cell_type": "markdown",
      "metadata": {
        "id": "vv9M-byiPORg"
      },
      "source": [
        "### 5.3 Training"
      ]
    },
    {
      "cell_type": "code",
      "metadata": {
        "id": "Lz4S1IXYPQV3"
      },
      "source": [
        "# https://www.coursera.org/learn/cs598-deep-learning-for-healthcare/programming/eJFr3/homework-3-seq2seq/lab\n",
        "\n",
        "def train(model, train_loader, val_loader, n_epochs):\n",
        "    model.train()\n",
        "\n",
        "    for epoch in range(n_epochs):\n",
        "        train_loss= 0\n",
        "        all_y_true = torch.LongTensor()\n",
        "        all_y_pred = torch.LongTensor()\n",
        "\n",
        "        for x, y in train_loader:\n",
        "            optimizer.zero_grad()\n",
        "            y_pred = model(x)\n",
        "\n",
        "            #print(y_pred.shape)\n",
        "\n",
        "            # convert shape from [batch size, 1] to [batch size]\n",
        "            y_pred = y_pred.view(y_pred.shape[0])\n",
        "            y_pred[y_pred < 0] = 0\n",
        "\n",
        "            y = y.view(y.shape[0])\n",
        "            #print(y_pred.shape)\n",
        "            #print(y.shape)\n",
        "            all_y_true = torch.cat((all_y_true, y.to('cpu').long()), dim=0)\n",
        "            all_y_pred = torch.cat((all_y_pred, y_pred.to('cpu').long()), dim=0)\n",
        "\n",
        "            loss = criterion(y_pred, y)\n",
        "            loss.backward()\n",
        "            optimizer.step()\n",
        "            train_loss += loss.item()\n",
        "\n",
        "        train_loss = train_loss / len(train_loader)\n",
        "        #train_MAE = mean_absolute_error(all_y_true, all_y_pred)\n",
        "        _, train_MAE, _ = evaluate(model, train_loader)\n",
        "        val_loss, val_MAE, r2 = evaluate(model, val_loader)\n",
        "        print('Epoch: {} \\t Training Loss: {:.6f} \\t Training MAE: {:.6f} \\t Validation Loss: {:.6f} \\t Validation MAE: {:.6f}'.format(epoch+1, train_loss, train_MAE, val_loss, val_MAE))\n",
        "\n"
      ],
      "execution_count": 90,
      "outputs": []
    },
    {
      "cell_type": "code",
      "metadata": {
        "id": "_HwbAOCSZPM1",
        "colab": {
          "base_uri": "https://localhost:8080/"
        },
        "outputId": "25741ff2-1895-4235-ff02-689ea506e769"
      },
      "source": [
        "n_epochs = 25 # the prior paper's n_epochs=25\n",
        "train(model, train_loader, val_loader, n_epochs)\n"
      ],
      "execution_count": 92,
      "outputs": [
        {
          "output_type": "stream",
          "text": [
            "Epoch: 1 \t Training Loss: 1187.531187 \t Training MAE: 1130.358907 \t Validation Loss: 1668.045345 \t Validation MAE: 1674.815176\n",
            "Epoch: 2 \t Training Loss: 1100.408605 \t Training MAE: 1078.154293 \t Validation Loss: 1727.952753 \t Validation MAE: 1733.861789\n",
            "Epoch: 3 \t Training Loss: 1098.417611 \t Training MAE: 1075.521483 \t Validation Loss: 1720.367311 \t Validation MAE: 1726.107046\n",
            "Epoch: 4 \t Training Loss: 1091.168721 \t Training MAE: 1076.170163 \t Validation Loss: 1718.101088 \t Validation MAE: 1724.356640\n",
            "Epoch: 5 \t Training Loss: 1089.685684 \t Training MAE: 1067.569482 \t Validation Loss: 1736.183134 \t Validation MAE: 1741.688889\n",
            "Epoch: 6 \t Training Loss: 1085.717354 \t Training MAE: 1074.029341 \t Validation Loss: 1722.454384 \t Validation MAE: 1728.381301\n",
            "Epoch: 7 \t Training Loss: 1083.779647 \t Training MAE: 1064.389487 \t Validation Loss: 1752.115417 \t Validation MAE: 1757.715989\n",
            "Epoch: 8 \t Training Loss: 1082.024123 \t Training MAE: 1067.037393 \t Validation Loss: 1741.663865 \t Validation MAE: 1747.830894\n",
            "Epoch: 9 \t Training Loss: 1080.358906 \t Training MAE: 1070.281799 \t Validation Loss: 1730.871087 \t Validation MAE: 1736.908943\n",
            "Epoch: 10 \t Training Loss: 1079.293819 \t Training MAE: 1059.567237 \t Validation Loss: 1762.475325 \t Validation MAE: 1768.058266\n",
            "Epoch: 11 \t Training Loss: 1078.383127 \t Training MAE: 1076.006116 \t Validation Loss: 1788.100902 \t Validation MAE: 1793.315447\n",
            "Epoch: 12 \t Training Loss: 1075.157297 \t Training MAE: 1060.711543 \t Validation Loss: 1738.373060 \t Validation MAE: 1744.170461\n",
            "Epoch: 13 \t Training Loss: 1076.045485 \t Training MAE: 1061.791515 \t Validation Loss: 1755.599983 \t Validation MAE: 1761.343902\n",
            "Epoch: 14 \t Training Loss: 1073.964258 \t Training MAE: 1054.782922 \t Validation Loss: 1759.534499 \t Validation MAE: 1765.070461\n",
            "Epoch: 15 \t Training Loss: 1075.331719 \t Training MAE: 1053.914763 \t Validation Loss: 1765.128296 \t Validation MAE: 1770.525474\n",
            "Epoch: 16 \t Training Loss: 1069.321975 \t Training MAE: 1054.397693 \t Validation Loss: 1786.280972 \t Validation MAE: 1791.325203\n",
            "Epoch: 17 \t Training Loss: 1070.896107 \t Training MAE: 1050.369281 \t Validation Loss: 1773.219895 \t Validation MAE: 1778.857995\n",
            "Epoch: 18 \t Training Loss: 1066.052486 \t Training MAE: 1056.688318 \t Validation Loss: 1794.694657 \t Validation MAE: 1799.840921\n",
            "Epoch: 19 \t Training Loss: 1065.459770 \t Training MAE: 1060.080824 \t Validation Loss: 1744.821119 \t Validation MAE: 1750.653659\n",
            "Epoch: 20 \t Training Loss: 1066.885516 \t Training MAE: 1046.468065 \t Validation Loss: 1781.373578 \t Validation MAE: 1786.872087\n",
            "Epoch: 21 \t Training Loss: 1064.577134 \t Training MAE: 1051.345204 \t Validation Loss: 1799.614744 \t Validation MAE: 1804.691328\n",
            "Epoch: 22 \t Training Loss: 1062.915912 \t Training MAE: 1056.156306 \t Validation Loss: 1756.243768 \t Validation MAE: 1762.064770\n",
            "Epoch: 23 \t Training Loss: 1064.335588 \t Training MAE: 1051.340482 \t Validation Loss: 1819.790044 \t Validation MAE: 1824.907859\n",
            "Epoch: 24 \t Training Loss: 1060.713541 \t Training MAE: 1042.422002 \t Validation Loss: 1781.316504 \t Validation MAE: 1786.622222\n",
            "Epoch: 25 \t Training Loss: 1056.734765 \t Training MAE: 1045.803282 \t Validation Loss: 1772.043683 \t Validation MAE: 1777.685908\n"
          ],
          "name": "stdout"
        }
      ]
    },
    {
      "cell_type": "markdown",
      "metadata": {
        "id": "HU1JuOCGcIvN"
      },
      "source": [
        "### 6. **Test**"
      ]
    },
    {
      "cell_type": "code",
      "metadata": {
        "id": "pjQhOCG2Zk1L",
        "colab": {
          "base_uri": "https://localhost:8080/"
        },
        "outputId": "16e76597-bd29-41c5-9be7-5e94dc171377"
      },
      "source": [
        "_, test_mae, _ = evaluate(model, test_loader)\n",
        "print('Test MAE: %.2f'%(test_mae))"
      ],
      "execution_count": 93,
      "outputs": [
        {
          "output_type": "stream",
          "text": [
            "Test MAE: 1579.82\n"
          ],
          "name": "stdout"
        }
      ]
    },
    {
      "cell_type": "code",
      "metadata": {
        "id": "piuf5sBXg7A-"
      },
      "source": [
        ""
      ],
      "execution_count": null,
      "outputs": []
    }
  ]
}